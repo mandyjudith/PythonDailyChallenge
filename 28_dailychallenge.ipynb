{
 "metadata": {
  "language_info": {
   "codemirror_mode": {
    "name": "ipython",
    "version": 3
   },
   "file_extension": ".py",
   "mimetype": "text/x-python",
   "name": "python",
   "nbconvert_exporter": "python",
   "pygments_lexer": "ipython3",
   "version": "3.7.6"
  },
  "orig_nbformat": 2,
  "kernelspec": {
   "name": "python3",
   "display_name": "Python 3.7.6 64-bit (conda)",
   "metadata": {
    "interpreter": {
     "hash": "65217befdecd77df966a0fc871a0f674f96e08082e68f0c74d27e5780f39628d"
    }
   }
  }
 },
 "nbformat": 4,
 "nbformat_minor": 2,
 "cells": [
  {
   "source": [
    "A string is an almost-palindrome if, by changing only one character, you can make it a palindrome. Create a function that returns True if a string is an almost-palindrome and False otherwise.\n",
    "\n",
    "Examples\n",
    "\n",
    "almost_palindrome(\"abcdcbg\") ➞ True\n",
    "\n",
    "#Transformed to \"abcdcba\" by changing \"g\" to \"a\".\n",
    "\n",
    "almost_palindrome(\"abccia\") ➞ True\n",
    "\n",
    "#Transformed to \"abccba\" by changing \"b\" to \"a\".\n",
    "\n",
    "almost_palindrome(\"abcdaaa\") ➞ False\n",
    "\n",
    "#Can't be transformed to a palindrome in exactly 1 turn.\n",
    "\n",
    "almost_palindrome(\"1234312\") ➞ False"
   ],
   "cell_type": "markdown",
   "metadata": {}
  },
  {
   "cell_type": "code",
   "execution_count": 5,
   "metadata": {},
   "outputs": [],
   "source": [
    "def almost_palindrome(s):\n",
    "    count = 0\n",
    "    s_rev = s[::-1]\n",
    "    for i in range(len(s)//2):\n",
    "        if s[i] != s_rev[i]:\n",
    "            count += 1\n",
    "\n",
    "    if count == 1:\n",
    "        return True\n",
    "\n",
    "    else:\n",
    "        return False\n"
   ]
  },
  {
   "cell_type": "code",
   "execution_count": 6,
   "metadata": {},
   "outputs": [
    {
     "output_type": "execute_result",
     "data": {
      "text/plain": [
       "True"
      ]
     },
     "metadata": {},
     "execution_count": 6
    }
   ],
   "source": [
    "almost_palindrome(\"abcdcbg\")"
   ]
  },
  {
   "cell_type": "code",
   "execution_count": 7,
   "metadata": {},
   "outputs": [
    {
     "output_type": "execute_result",
     "data": {
      "text/plain": [
       "True"
      ]
     },
     "metadata": {},
     "execution_count": 7
    }
   ],
   "source": [
    "almost_palindrome(\"abccia\")"
   ]
  },
  {
   "cell_type": "code",
   "execution_count": 8,
   "metadata": {},
   "outputs": [
    {
     "output_type": "execute_result",
     "data": {
      "text/plain": [
       "False"
      ]
     },
     "metadata": {},
     "execution_count": 8
    }
   ],
   "source": [
    "almost_palindrome(\"abcdaaa\") "
   ]
  },
  {
   "cell_type": "code",
   "execution_count": 9,
   "metadata": {},
   "outputs": [
    {
     "output_type": "execute_result",
     "data": {
      "text/plain": [
       "False"
      ]
     },
     "metadata": {},
     "execution_count": 9
    }
   ],
   "source": [
    "almost_palindrome(\"1234312\")"
   ]
  },
  {
   "cell_type": "code",
   "execution_count": null,
   "metadata": {},
   "outputs": [],
   "source": []
  }
 ]
}