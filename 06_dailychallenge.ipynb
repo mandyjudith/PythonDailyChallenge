{
 "metadata": {
  "language_info": {
   "codemirror_mode": {
    "name": "ipython",
    "version": 3
   },
   "file_extension": ".py",
   "mimetype": "text/x-python",
   "name": "python",
   "nbconvert_exporter": "python",
   "pygments_lexer": "ipython3",
   "version": "3.7.6-final"
  },
  "orig_nbformat": 2,
  "kernelspec": {
   "name": "python3",
   "display_name": "Python 3",
   "language": "python"
  }
 },
 "nbformat": 4,
 "nbformat_minor": 2,
 "cells": [
  {
   "source": [
    "Create a function that given a string, it returns the middle character of the string. If the length of the string is even, return the two middle characters of the string.\n",
    "\n",
    "\n",
    "\n",
    "def middle(string):\n",
    "\n",
    "    return middle_string\n",
    "\n"
   ],
   "cell_type": "markdown",
   "metadata": {}
  },
  {
   "cell_type": "code",
   "execution_count": 12,
   "metadata": {},
   "outputs": [
    {
     "output_type": "execute_result",
     "data": {
      "text/plain": [
       "('5', '6')"
      ]
     },
     "metadata": {},
     "execution_count": 12
    }
   ],
   "source": [
    "def middle(string):\n",
    "    if len(string)%2 == 0:\n",
    "        return string[int(len(string)/2-1)],string[int(len(string)/2)]\n",
    "    else:\n",
    "        return (string[round(len(string)/2)])\n",
    "\n",
    "\n",
    "middle('apple')\n",
    "middle('abcdef')\n",
    "middle('1234567890')\n"
   ]
  },
  {
   "cell_type": "code",
   "execution_count": null,
   "metadata": {},
   "outputs": [],
   "source": []
  }
 ]
}