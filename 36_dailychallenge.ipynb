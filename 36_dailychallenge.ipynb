{
 "metadata": {
  "language_info": {
   "codemirror_mode": {
    "name": "ipython",
    "version": 3
   },
   "file_extension": ".py",
   "mimetype": "text/x-python",
   "name": "python",
   "nbconvert_exporter": "python",
   "pygments_lexer": "ipython3",
   "version": "3.6.8-final"
  },
  "orig_nbformat": 2,
  "kernelspec": {
   "name": "python3",
   "display_name": "Python 3.6.8 64-bit ('base': conda)",
   "metadata": {
    "interpreter": {
     "hash": "f1544c8d8b4d518102354955f85aa8f816b4a111d1a0283dd35a069e01cd5cb0"
    }
   }
  }
 },
 "nbformat": 4,
 "nbformat_minor": 2,
 "cells": [
  {
   "source": [
    "Write a function that returns the closest palindrome number to an integer. If two palindrome numbers tie in absolute distance, return the smaller number.\n",
    "\n",
    "Examples\n",
    "\n",
    "closest_palindrome(887) ➞ 888\n",
    "\n",
    "closest_palindrome(100) ➞ 99\n",
    "\n",
    "99 and 101 are equally distant, so we return the smaller palindrome.\n",
    "\n",
    "closest_palindrome(888) ➞ 888\n",
    "\n",
    "closest_palindrome(27) ➞ 22"
   ],
   "cell_type": "markdown",
   "metadata": {}
  },
  {
   "cell_type": "code",
   "execution_count": 3,
   "metadata": {},
   "outputs": [],
   "source": [
    "def isPalindrome(s):\n",
    "    if s == s[::-1]:\n",
    "        return True\n"
   ]
  },
  {
   "cell_type": "code",
   "execution_count": 20,
   "metadata": {},
   "outputs": [],
   "source": [
    "def closest_palindrome(num):\n",
    "    palindrome = []\n",
    "    for i in range(num,0,-1):\n",
    "        if isPalindrome(str(i)):\n",
    "            palindrome.append(i)\n",
    "            break\n",
    "\n",
    "    for j in range(num,num*100):\n",
    "        if isPalindrome(str(j)):\n",
    "            palindrome.append(j)\n",
    "            break\n",
    "\n",
    "    print(palindrome)\n",
    "\n",
    "    if abs(palindrome[0]-num)<abs(palindrome[1]-num):\n",
    "        return palindrome[0]\n",
    "\n",
    "    elif abs(palindrome[0]-num)>abs(palindrome[1]-num):\n",
    "        return palindrome[1]\n",
    "\n",
    "    elif abs(palindrome[0]-num)==abs(palindrome[1]-num):\n",
    "        return min(palindrome)\n",
    "\n",
    "\n",
    "\n",
    "\n",
    "\n"
   ]
  },
  {
   "cell_type": "code",
   "execution_count": 21,
   "metadata": {},
   "outputs": [
    {
     "output_type": "stream",
     "name": "stdout",
     "text": [
      "[878, 888]\n"
     ]
    },
    {
     "output_type": "execute_result",
     "data": {
      "text/plain": [
       "888"
      ]
     },
     "metadata": {},
     "execution_count": 21
    }
   ],
   "source": [
    "closest_palindrome(887)"
   ]
  },
  {
   "cell_type": "code",
   "execution_count": 22,
   "metadata": {},
   "outputs": [
    {
     "output_type": "stream",
     "name": "stdout",
     "text": [
      "[99, 101]\n"
     ]
    },
    {
     "output_type": "execute_result",
     "data": {
      "text/plain": [
       "99"
      ]
     },
     "metadata": {},
     "execution_count": 22
    }
   ],
   "source": [
    "closest_palindrome(100) "
   ]
  },
  {
   "cell_type": "code",
   "execution_count": 23,
   "metadata": {},
   "outputs": [
    {
     "output_type": "stream",
     "name": "stdout",
     "text": [
      "[22, 33]\n"
     ]
    },
    {
     "output_type": "execute_result",
     "data": {
      "text/plain": [
       "22"
      ]
     },
     "metadata": {},
     "execution_count": 23
    }
   ],
   "source": [
    "closest_palindrome(27)"
   ]
  },
  {
   "cell_type": "code",
   "execution_count": null,
   "metadata": {},
   "outputs": [],
   "source": []
  }
 ]
}