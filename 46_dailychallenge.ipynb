{
 "metadata": {
  "language_info": {
   "codemirror_mode": {
    "name": "ipython",
    "version": 3
   },
   "file_extension": ".py",
   "mimetype": "text/x-python",
   "name": "python",
   "nbconvert_exporter": "python",
   "pygments_lexer": "ipython3",
   "version": "3.6.8"
  },
  "orig_nbformat": 2,
  "kernelspec": {
   "name": "python3",
   "display_name": "Python 3.6.8 64-bit ('base': conda)",
   "metadata": {
    "interpreter": {
     "hash": "f1544c8d8b4d518102354955f85aa8f816b4a111d1a0283dd35a069e01cd5cb0"
    }
   }
  }
 },
 "nbformat": 4,
 "nbformat_minor": 2,
 "cells": [
  {
   "source": [
    "Given an array of strings and an original string, write a function to output an array of boolean values - True if the word can be formed from the original word by swapping two letters only once and False otherwise.\n",
    "\n",
    "Examples\n",
    "\n",
    "validate_swaps([\"BACDE\", \"EBCDA\", \"BCDEA\", \"ACBED\"], \"ABCDE\") ➞ [True, True, False, False]\n",
    "\n",
    "Swap \"A\" and \"B\" from \"ABCDE\" to get \"BACDE\".\n",
    "\n",
    "Swap \"A\" and \"E\" from \"ABCDE\" to get \"EBCDA\".\n",
    "\n",
    "Both \"BCDEA\" and \"ACBED\" cannot be formed from \"ABCDE\" using only a single swap.\n",
    "\n",
    "validate_swaps([\"32145\", \"12354\", \"15342\", \"12543\"], \"12345\") ➞ [True, True, True, True]\n",
    "\n",
    "validate_swaps([\"9786\", \"9788\", \"97865\", \"7689\"], \"9768\") ➞ [True, False, False, False]\n"
   ],
   "cell_type": "markdown",
   "metadata": {}
  },
  {
   "cell_type": "code",
   "execution_count": 13,
   "metadata": {},
   "outputs": [],
   "source": [
    "def validate_swaps(arr,s):\n",
    "    output = []\n",
    "    for i in arr: # item of the array\n",
    "        count=0\n",
    "        lst = [] \n",
    "        if len(i)!= len(s):\n",
    "            output.append('False')   \n",
    "        else:    \n",
    "            for j in range(len(i)): # word of the item\n",
    "                if i[j]!=s[j]:\n",
    "                    count+=1\n",
    "                    lst.append(j)\n",
    "                else:\n",
    "                    continue\n",
    "            # print(lst)\n",
    "            if len(lst) == 2:\n",
    "                temp = []\n",
    "                for k in i:\n",
    "                    temp.append(k)\n",
    "                x = lst[0]\n",
    "                y = lst[1]\n",
    "                temp[x],temp[y]=temp[y],temp[x]\n",
    "                k = \"\".join(temp)\n",
    "                if k == s:\n",
    "                    output.append('True')\n",
    "            else:\n",
    "                output.append('False')\n",
    "\n",
    "    return output\n"
   ]
  },
  {
   "cell_type": "code",
   "execution_count": 14,
   "metadata": {},
   "outputs": [
    {
     "output_type": "execute_result",
     "data": {
      "text/plain": [
       "['True', 'True', 'False', 'False']"
      ]
     },
     "metadata": {},
     "execution_count": 14
    }
   ],
   "source": [
    "validate_swaps([\"BACDE\", \"EBCDA\", \"BCDEA\", \"ACBED\"], \"ABCDE\")"
   ]
  },
  {
   "cell_type": "code",
   "execution_count": 15,
   "metadata": {},
   "outputs": [
    {
     "output_type": "execute_result",
     "data": {
      "text/plain": [
       "['True', 'True', 'True', 'True']"
      ]
     },
     "metadata": {},
     "execution_count": 15
    }
   ],
   "source": [
    "validate_swaps([\"32145\", \"12354\", \"15342\", \"12543\"], \"12345\")"
   ]
  },
  {
   "cell_type": "code",
   "execution_count": 16,
   "metadata": {},
   "outputs": [
    {
     "output_type": "execute_result",
     "data": {
      "text/plain": [
       "['True', 'False', 'False', 'False']"
      ]
     },
     "metadata": {},
     "execution_count": 16
    }
   ],
   "source": [
    "validate_swaps([\"9786\", \"9788\", \"97865\", \"7689\"], \"9768\")"
   ]
  },
  {
   "cell_type": "code",
   "execution_count": null,
   "metadata": {},
   "outputs": [],
   "source": []
  }
 ]
}