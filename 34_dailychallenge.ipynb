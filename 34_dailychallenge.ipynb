{
 "metadata": {
  "language_info": {
   "codemirror_mode": {
    "name": "ipython",
    "version": 3
   },
   "file_extension": ".py",
   "mimetype": "text/x-python",
   "name": "python",
   "nbconvert_exporter": "python",
   "pygments_lexer": "ipython3",
   "version": "3.6.8-final"
  },
  "orig_nbformat": 2,
  "kernelspec": {
   "name": "python3",
   "display_name": "Python 3.6.8 64-bit ('anaconda3': virtualenv)",
   "metadata": {
    "interpreter": {
     "hash": "f1544c8d8b4d518102354955f85aa8f816b4a111d1a0283dd35a069e01cd5cb0"
    }
   }
  }
 },
 "nbformat": 4,
 "nbformat_minor": 2,
 "cells": [
  {
   "source": [
    "In this challenge, you have to establish if a positive integer is a Modest number, accordingly to the following algorithm:\n",
    "\n",
    "Divide the number into two left and right partitions. For each combination of left and right parts, you have to check if a condition is true: the remainder of the number divided by the right part is equal to the left part. If at least a combination of two parts satisfies the above condition, the number is Modest, otherwise, it's not. Given an integer num, implement a function that returns True if num is a Modest number, or False if it's not.\n",
    "\n",
    "Example #1\n",
    "\n",
    "is_modest(2036) ➞ True\n",
    "\n",
    "Combination 1: Left = 2 | Right = 036 = 36 (Leading zeros are not considered) Number (2036) % Right (36) = 20 != Left (2)\n",
    "\n",
    "Combination 2: Left = 20 | Right = 36 Number (2036) % Right (36) = 20 = Left (20)\n",
    "\n",
    "At least a combination satisfies the condition\n",
    "\n",
    "It's a Modest number\n",
    "\n",
    "Example #2\n",
    "\n",
    "is_modest(3412) ➞ False\n",
    "\n",
    "Combination 1: Left = 3 | Right = 412 3412 % 412 = 116 != Left\n",
    "\n",
    "Combination 2: Left = 34 | Right = 12 3412 % 12 = 4 != Left\n",
    "\n",
    "Combination 3: Left = 341 | Right = 2 3412 % 2 = 0 != Left\n",
    "\n",
    "It's not a Modest number\n",
    "\n",
    "Notice how left and right parts are made:\n",
    "\n",
    "They are not permutations or combinations...\n",
    "\n",
    "...but partitions of consecutive digits.\n",
    "\n",
    "Example #3\n",
    "\n",
    "is_modest(21333) ➞ True\n",
    "\n",
    "Combination 1: Left = 2 | Right = 1333 21333 % 1333 = 5 != Left\n",
    "\n",
    "Combination 2: Left = 21 | Right = 333 21333 % 333 = 21 = Left\n",
    "\n",
    "At least a combination satisfies the condition\n",
    "\n",
    "It's a Modest number\n",
    "\n",
    "Example #4\n",
    "\n",
    "is_modest(8) ➞ False\n",
    "\n",
    "An integer with less than two digits can't be partitioned.\n"
   ],
   "cell_type": "markdown",
   "metadata": {}
  },
  {
   "cell_type": "code",
   "execution_count": 23,
   "metadata": {},
   "outputs": [],
   "source": [
    "def is_modest(num):\n",
    "    num = str(num)\n",
    "    if len(num)<2:\n",
    "        return False\n",
    "    else:\n",
    "        ans = []\n",
    "        for x in range(1,(len(num)//2)+1):\n",
    "            left = num[:x]\n",
    "            right = num[x:]\n",
    "            print(left)\n",
    "            print(right)\n",
    "\n",
    "            if int(num)%int(right) == int(left):\n",
    "                ans.append('True')\n",
    "            else:\n",
    "                ans.append('False')\n",
    "\n",
    "            print(ans)\n",
    "\n",
    "        if 'True' in ans:\n",
    "            return True\n",
    "        else:\n",
    "            return False\n",
    "        \n"
   ]
  },
  {
   "cell_type": "code",
   "execution_count": 24,
   "metadata": {},
   "outputs": [
    {
     "output_type": "stream",
     "name": "stdout",
     "text": [
      "2\n036\n['False']\n20\n36\n['False', 'True']\n"
     ]
    },
    {
     "output_type": "execute_result",
     "data": {
      "text/plain": [
       "True"
      ]
     },
     "metadata": {},
     "execution_count": 24
    }
   ],
   "source": [
    "is_modest(2036)"
   ]
  },
  {
   "cell_type": "code",
   "execution_count": 25,
   "metadata": {},
   "outputs": [
    {
     "output_type": "stream",
     "name": "stdout",
     "text": [
      "3\n412\n['False']\n34\n12\n['False', 'False']\n"
     ]
    },
    {
     "output_type": "execute_result",
     "data": {
      "text/plain": [
       "False"
      ]
     },
     "metadata": {},
     "execution_count": 25
    }
   ],
   "source": [
    "is_modest(3412)"
   ]
  },
  {
   "cell_type": "code",
   "execution_count": 26,
   "metadata": {},
   "outputs": [
    {
     "output_type": "stream",
     "name": "stdout",
     "text": [
      "2\n1333\n['False']\n21\n333\n['False', 'True']\n"
     ]
    },
    {
     "output_type": "execute_result",
     "data": {
      "text/plain": [
       "True"
      ]
     },
     "metadata": {},
     "execution_count": 26
    }
   ],
   "source": [
    "is_modest(21333)"
   ]
  },
  {
   "cell_type": "code",
   "execution_count": 27,
   "metadata": {},
   "outputs": [
    {
     "output_type": "execute_result",
     "data": {
      "text/plain": [
       "False"
      ]
     },
     "metadata": {},
     "execution_count": 27
    }
   ],
   "source": [
    "is_modest(8)"
   ]
  },
  {
   "cell_type": "code",
   "execution_count": null,
   "metadata": {},
   "outputs": [],
   "source": []
  }
 ]
}