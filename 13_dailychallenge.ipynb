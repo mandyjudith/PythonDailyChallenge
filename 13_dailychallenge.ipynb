{
 "metadata": {
  "language_info": {
   "codemirror_mode": {
    "name": "ipython",
    "version": 3
   },
   "file_extension": ".py",
   "mimetype": "text/x-python",
   "name": "python",
   "nbconvert_exporter": "python",
   "pygments_lexer": "ipython3",
   "version": "3.6.8-final"
  },
  "orig_nbformat": 2,
  "kernelspec": {
   "name": "python3",
   "display_name": "Python 3",
   "language": "python"
  }
 },
 "nbformat": 4,
 "nbformat_minor": 2,
 "cells": [
  {
   "source": [
    "Given a string, create a function that splits the string into pairs of two characters. Put the pairs inside a list then return the list. If a character is missing in a pair, use the character '?' to replace the missing character.\n",
    "\n",
    "\n",
    "\n",
    "Example:\n",
    "\n",
    "Input: \"abcdefg\"\n",
    "\n",
    "Output = [\"ab\", \"cd\", \"ef\", \"g?\"]\n",
    "\n",
    "\n",
    "\n",
    "Input: \"abcdef\"\n",
    "\n",
    "Output = [\"ab\", \"cd\", \"ef\"]\n",
    "\n"
   ],
   "cell_type": "markdown",
   "metadata": {}
  },
  {
   "cell_type": "code",
   "execution_count": 38,
   "metadata": {},
   "outputs": [
    {
     "output_type": "execute_result",
     "data": {
      "text/plain": [
       "['ab', 'cd', 'ef', 'g?']"
      ]
     },
     "metadata": {},
     "execution_count": 38
    }
   ],
   "source": [
    "def pair(string):\n",
    "    n = 2\n",
    "    lst = []\n",
    "    for i in range(0, len(string), n):\n",
    "        lst.append(line[i:i+n])\n",
    "\n",
    "    for j in range(len(lst)):\n",
    "        if len(lst[j])!= 2:\n",
    "            lst[j] = lst[j]+'?' \n",
    "        \n",
    "    return lst\n",
    "\n",
    "    \n",
    "\n",
    "\n",
    "string = \"abcdefg\"\n",
    "pair(string)\n"
   ]
  },
  {
   "cell_type": "code",
   "execution_count": null,
   "metadata": {},
   "outputs": [],
   "source": []
  }
 ]
}