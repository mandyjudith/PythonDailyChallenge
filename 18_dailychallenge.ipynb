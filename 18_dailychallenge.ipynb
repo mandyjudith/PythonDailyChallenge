{
 "metadata": {
  "language_info": {
   "codemirror_mode": {
    "name": "ipython",
    "version": 3
   },
   "file_extension": ".py",
   "mimetype": "text/x-python",
   "name": "python",
   "nbconvert_exporter": "python",
   "pygments_lexer": "ipython3",
   "version": "3.6.8-final"
  },
  "orig_nbformat": 2,
  "kernelspec": {
   "name": "python3",
   "display_name": "Python 3",
   "language": "python"
  }
 },
 "nbformat": 4,
 "nbformat_minor": 2,
 "cells": [
  {
   "source": [
    "Given an integer greater than 0, return a list of all possible palindromes of the integer.\n",
    "\n",
    "\n",
    "\n",
    "Example:\n",
    "\n",
    "Input: \n",
    "\n",
    "34322122\n",
    "\n",
    "Output:\n",
    "\n",
    "[22, 212, 343, 22122]\n",
    "\n"
   ],
   "cell_type": "markdown",
   "metadata": {}
  },
  {
   "cell_type": "code",
   "execution_count": 48,
   "metadata": {},
   "outputs": [
    {
     "output_type": "stream",
     "name": "stdout",
     "text": [
      "{'212', '343', '22122', '22'}\n"
     ]
    }
   ],
   "source": [
    "given = str(34322122)\n",
    "lst = []\n",
    "\n",
    "for i in range(len(given)):\n",
    "    for j in range(i+1,len(given)):  # j = start after i\n",
    "        x = given[i:j+1]\n",
    "        # print('i: ',i,'j:',j,'x:',x)\n",
    "        if x[::] == x[::-1]:\n",
    "            lst.append(x)\n",
    "print(set(lst))\n",
    "\n",
    "\n"
   ]
  },
  {
   "cell_type": "code",
   "execution_count": null,
   "metadata": {},
   "outputs": [],
   "source": []
  }
 ]
}