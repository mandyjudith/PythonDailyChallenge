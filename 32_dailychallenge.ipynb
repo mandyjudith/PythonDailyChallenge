{
 "metadata": {
  "language_info": {
   "codemirror_mode": {
    "name": "ipython",
    "version": 3
   },
   "file_extension": ".py",
   "mimetype": "text/x-python",
   "name": "python",
   "nbconvert_exporter": "python",
   "pygments_lexer": "ipython3",
   "version": "3.7.6-final"
  },
  "orig_nbformat": 2,
  "kernelspec": {
   "name": "python3",
   "display_name": "Python 3.7.6 64-bit (conda)",
   "metadata": {
    "interpreter": {
     "hash": "65217befdecd77df966a0fc871a0f674f96e08082e68f0c74d27e5780f39628d"
    }
   }
  }
 },
 "nbformat": 4,
 "nbformat_minor": 2,
 "cells": [
  {
   "source": [
    "Given any number, we can create a new number by adding the sums of squares of digits of that number. For example, given 203, our new number is 4 + 0 + 9 = 13. If we repeat this process, we get a sequence of numbers:\n",
    "\n",
    "203 -> 13 -> 10 -> 1 -> 1 Sometimes, like with 203, the sequence reaches (and stays at) 1. \n",
    "\n",
    "Numbers like this are called happy.\n",
    "\n",
    "Not all numbers are happy. If we started with 11, the sequence would be:\n",
    "\n",
    "11 -> 2 -> 4 -> 16 -> ... This sequence will never reach 1, and so the number 11 is called unhappy.\n",
    "\n",
    "Given a positive whole number, you have to determine whether that number is happy or unhappy.\n",
    "\n",
    "Examples\n",
    "\n",
    "happy(203) ➞ True\n",
    "\n",
    "happy(11) ➞ False\n",
    "\n",
    "happy(107) ➞ False\n"
   ],
   "cell_type": "markdown",
   "metadata": {}
  },
  {
   "cell_type": "code",
   "execution_count": 39,
   "metadata": {},
   "outputs": [],
   "source": [
    "def happy(num):\n",
    "    number = str(num)\n",
    "    count = 20\n",
    "    \n",
    "    while count>0:\n",
    "        total = 0\n",
    "        for i in str(number):\n",
    "            total += int(i)**2\n",
    "        count -= 1\n",
    "\n",
    "        number = total\n",
    "\n",
    "    if number == 1:\n",
    "        return True\n",
    "\n",
    "    else:\n",
    "        return False\n"
   ]
  },
  {
   "cell_type": "code",
   "execution_count": 40,
   "metadata": {
    "tags": []
   },
   "outputs": [
    {
     "output_type": "execute_result",
     "data": {
      "text/plain": [
       "True"
      ]
     },
     "metadata": {},
     "execution_count": 40
    }
   ],
   "source": [
    "happy(203)"
   ]
  },
  {
   "cell_type": "code",
   "execution_count": 41,
   "metadata": {},
   "outputs": [
    {
     "output_type": "execute_result",
     "data": {
      "text/plain": [
       "False"
      ]
     },
     "metadata": {},
     "execution_count": 41
    }
   ],
   "source": [
    "happy(11)"
   ]
  },
  {
   "cell_type": "code",
   "execution_count": 43,
   "metadata": {},
   "outputs": [
    {
     "output_type": "execute_result",
     "data": {
      "text/plain": [
       "False"
      ]
     },
     "metadata": {},
     "execution_count": 43
    }
   ],
   "source": [
    "happy(107)"
   ]
  },
  {
   "cell_type": "code",
   "execution_count": null,
   "metadata": {},
   "outputs": [],
   "source": []
  }
 ]
}