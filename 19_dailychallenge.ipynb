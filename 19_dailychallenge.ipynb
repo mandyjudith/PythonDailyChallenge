{
 "metadata": {
  "language_info": {
   "codemirror_mode": {
    "name": "ipython",
    "version": 3
   },
   "file_extension": ".py",
   "mimetype": "text/x-python",
   "name": "python",
   "nbconvert_exporter": "python",
   "pygments_lexer": "ipython3",
   "version": "3.6.8-final"
  },
  "orig_nbformat": 2,
  "kernelspec": {
   "name": "python3",
   "display_name": "Python 3",
   "language": "python"
  }
 },
 "nbformat": 4,
 "nbformat_minor": 2,
 "cells": [
  {
   "source": [
    "Given a string of names with a certain pattern, return a formatted string with a certain pattern. \n",
    "\n",
    "\n",
    "\n",
    "Example:\n",
    "\n",
    "Input:\n",
    "\n",
    "\"Alfred:Black;Carey:Drake;Elena:Ferguson;Georgina:Harrison\"\n",
    "\n",
    "Output:\n",
    "\n",
    "\"(BLACK, ALFRED)(DRAKE, CAREY)(FERGUSON, ELENA)(HARRISON, GEORGINA)\"\n",
    "\n"
   ],
   "cell_type": "markdown",
   "metadata": {}
  },
  {
   "cell_type": "code",
   "execution_count": 40,
   "metadata": {},
   "outputs": [
    {
     "output_type": "execute_result",
     "data": {
      "text/plain": [
       "'(BLACK, ALFRED)(DRAKE, CAREY)(FERGUSON, ELENA)(HARRISON, GEORGINA)'"
      ]
     },
     "metadata": {},
     "execution_count": 40
    }
   ],
   "source": [
    "import re\n",
    "\n",
    "def pattern(s):\n",
    "    s = s.replace(';',':').split(':')\n",
    "    new_s = ''\n",
    "    for i in  range(0,len(s),2):\n",
    "        x= str((s[i+1],s[i]))\n",
    "        new_s+= x\n",
    "    new_s = new_s.upper().replace(\"'\",\"\")\n",
    "\n",
    "    return new_s\n",
    "\n",
    "\n",
    "\n",
    "s = \"Alfred:Black;Carey:Drake;Elena:Ferguson;Georgina:Harrison\"\n",
    "pattern(s)"
   ]
  }
 ]
}