{
 "metadata": {
  "language_info": {
   "codemirror_mode": {
    "name": "ipython",
    "version": 3
   },
   "file_extension": ".py",
   "mimetype": "text/x-python",
   "name": "python",
   "nbconvert_exporter": "python",
   "pygments_lexer": "ipython3",
   "version": "3.6.8-final"
  },
  "orig_nbformat": 2,
  "kernelspec": {
   "name": "python3",
   "display_name": "Python 3",
   "language": "python"
  }
 },
 "nbformat": 4,
 "nbformat_minor": 2,
 "cells": [
  {
   "source": [
    "Given a string, count all the lowercase letters. Return a dictionary with the keys as the lowercase letters and the values as the letters' counts respectively. The keys should be sorted in alphabetical order.\n",
    "\n",
    "\n",
    "\n",
    "Example:\n",
    "\n",
    "Input:\n",
    "\n",
    "\"apple\"\n",
    "\n",
    "Output:\n",
    "\n",
    "{'a': 1, 'e': 1, 'l': 1, 'p': 2}\n",
    "\n"
   ],
   "cell_type": "markdown",
   "metadata": {}
  },
  {
   "cell_type": "code",
   "execution_count": 6,
   "metadata": {},
   "outputs": [
    {
     "output_type": "execute_result",
     "data": {
      "text/plain": [
       "{'a': 1, 'e': 1, 'l': 1, 'p': 2}"
      ]
     },
     "metadata": {},
     "execution_count": 6
    }
   ],
   "source": [
    "def count_lower(s):\n",
    "    lower_dict={}\n",
    "    for i in s:\n",
    "        if i.islower():\n",
    "            if i not in lower_dict:\n",
    "                lower_dict[i] = 1\n",
    "            else:\n",
    "                lower_dict[i] +=1\n",
    "\n",
    "    return  dict( sorted(lower_dict.items(), key=lambda x: x[0].lower()) )\n",
    "\n",
    "\n",
    "s = \"apple\"\n",
    "count_lower(s)\n"
   ]
  },
  {
   "cell_type": "code",
   "execution_count": null,
   "metadata": {},
   "outputs": [],
   "source": []
  }
 ]
}