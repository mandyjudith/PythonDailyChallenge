{
 "metadata": {
  "language_info": {
   "codemirror_mode": {
    "name": "ipython",
    "version": 3
   },
   "file_extension": ".py",
   "mimetype": "text/x-python",
   "name": "python",
   "nbconvert_exporter": "python",
   "pygments_lexer": "ipython3",
   "version": "3.6.8-final"
  },
  "orig_nbformat": 2,
  "kernelspec": {
   "name": "python3",
   "display_name": "Python 3",
   "language": "python"
  }
 },
 "nbformat": 4,
 "nbformat_minor": 2,
 "cells": [
  {
   "source": [
    "Given a number, return the difference between the maximum and minimum numbers that can be formed when the digits are rearranged."
   ],
   "cell_type": "markdown",
   "metadata": {}
  },
  {
   "cell_type": "code",
   "execution_count": 5,
   "metadata": {},
   "outputs": [
    {
     "output_type": "stream",
     "name": "stdout",
     "text": [
      "98763332\n6543210\n"
     ]
    }
   ],
   "source": [
    "def rearrange(n):\n",
    "    output=''\n",
    "    temp = []\n",
    "    for i in n:\n",
    "            temp.append(i)\n",
    "\n",
    "    while len(output)<len(n):\n",
    "        for j in temp:\n",
    "            if j == max(temp):\n",
    "                output+= j\n",
    "                temp.remove(j)\n",
    "\n",
    "    return int(output)\n",
    "\n",
    "\n",
    "print(rearrange('38293367'))\n",
    "print(rearrange('1203465'))\n"
   ]
  },
  {
   "cell_type": "code",
   "execution_count": null,
   "metadata": {},
   "outputs": [],
   "source": []
  }
 ]
}