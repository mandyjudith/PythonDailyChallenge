{
 "metadata": {
  "language_info": {
   "codemirror_mode": {
    "name": "ipython",
    "version": 3
   },
   "file_extension": ".py",
   "mimetype": "text/x-python",
   "name": "python",
   "nbconvert_exporter": "python",
   "pygments_lexer": "ipython3",
   "version": "3.7.6"
  },
  "orig_nbformat": 2,
  "kernelspec": {
   "name": "python3",
   "display_name": "Python 3.7.6 64-bit (conda)",
   "metadata": {
    "interpreter": {
     "hash": "65217befdecd77df966a0fc871a0f674f96e08082e68f0c74d27e5780f39628d"
    }
   }
  }
 },
 "nbformat": 4,
 "nbformat_minor": 2,
 "cells": [
  {
   "source": [
    "Create a function that takes a list and returns a new list containing only prime numbers.\n",
    "\n",
    "Examples\n",
    "\n",
    "filter_primes([7, 9, 3, 9, 10, 11, 27]) ➞ [7, 3, 11]\n",
    "\n",
    "filter_primes([10007, 1009, 1007, 27, 147, 77, 1001, 70]) ➞ [10007, 1009]\n",
    "\n",
    "filter_primes([1009, 10, 10, 10, 3, 33, 9, 4, 1, 61, 63, 69, 1087, 1091, 1093, 1097]) ➞ [1009, 3, 61, 1087, 1091, 1093, 1097]"
   ],
   "cell_type": "markdown",
   "metadata": {}
  },
  {
   "cell_type": "code",
   "execution_count": 2,
   "metadata": {},
   "outputs": [],
   "source": [
    "# check prime numbers\n",
    "import math \n",
    "\n",
    "def is_prime(n):\n",
    "    if n == 2:\n",
    "        return True\n",
    "    if n % 2 == 0 or n<= 1:\n",
    "        return False\n",
    "\n",
    "    sqr = int(math.sqrt(n))+1\n",
    "\n",
    "    for divisor in range(3,sqr,2):\n",
    "        if n % divisor == 0 :\n",
    "            return False\n",
    "\n",
    "    return True\n"
   ]
  },
  {
   "cell_type": "code",
   "execution_count": 6,
   "metadata": {},
   "outputs": [
    {
     "output_type": "execute_result",
     "data": {
      "text/plain": [
       "True"
      ]
     },
     "metadata": {},
     "execution_count": 6
    }
   ],
   "source": [
    "is_prime(11)"
   ]
  },
  {
   "cell_type": "code",
   "execution_count": 7,
   "metadata": {},
   "outputs": [],
   "source": [
    "def filter_primes(lst):\n",
    "    filter_list = []\n",
    "    for num in lst:\n",
    "        if is_prime(num):\n",
    "           filter_list.append(num)\n",
    "\n",
    "    return filter_list\n"
   ]
  },
  {
   "cell_type": "code",
   "execution_count": 8,
   "metadata": {},
   "outputs": [
    {
     "output_type": "execute_result",
     "data": {
      "text/plain": [
       "[7, 3, 11]"
      ]
     },
     "metadata": {},
     "execution_count": 8
    }
   ],
   "source": [
    "filter_primes([7, 9, 3, 9, 10, 11, 27])"
   ]
  },
  {
   "cell_type": "code",
   "execution_count": 9,
   "metadata": {},
   "outputs": [
    {
     "output_type": "execute_result",
     "data": {
      "text/plain": [
       "[10007, 1009]"
      ]
     },
     "metadata": {},
     "execution_count": 9
    }
   ],
   "source": [
    "filter_primes([10007, 1009, 1007, 27, 147, 77, 1001, 70])"
   ]
  },
  {
   "cell_type": "code",
   "execution_count": 10,
   "metadata": {},
   "outputs": [
    {
     "output_type": "execute_result",
     "data": {
      "text/plain": [
       "[1009, 3, 61, 1087, 1091, 1093, 1097]"
      ]
     },
     "metadata": {},
     "execution_count": 10
    }
   ],
   "source": [
    "filter_primes([1009, 10, 10, 10, 3, 33, 9, 4, 1, 61, 63, 69, 1087, 1091, 1093, 1097])"
   ]
  },
  {
   "cell_type": "code",
   "execution_count": null,
   "metadata": {},
   "outputs": [],
   "source": []
  }
 ]
}