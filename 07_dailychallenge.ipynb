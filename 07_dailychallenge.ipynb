{
 "metadata": {
  "language_info": {
   "codemirror_mode": {
    "name": "ipython",
    "version": 3
   },
   "file_extension": ".py",
   "mimetype": "text/x-python",
   "name": "python",
   "nbconvert_exporter": "python",
   "pygments_lexer": "ipython3",
   "version": "3.6.8-final"
  },
  "orig_nbformat": 2,
  "kernelspec": {
   "name": "python3",
   "display_name": "Python 3",
   "language": "python"
  }
 },
 "nbformat": 4,
 "nbformat_minor": 2,
 "cells": [
  {
   "source": [
    "Given a list of integers, create a function that finds the odd one out in the list.\n",
    "\n",
    "\n",
    "\n",
    "Example:\n",
    "\n",
    "Input: [1,1,1,1,1,1,1,2]\n",
    "\n",
    "Output: 2"
   ],
   "cell_type": "markdown",
   "metadata": {}
  },
  {
   "cell_type": "code",
   "execution_count": 1,
   "metadata": {},
   "outputs": [
    {
     "output_type": "execute_result",
     "data": {
      "text/plain": [
       "[2]"
      ]
     },
     "metadata": {},
     "execution_count": 1
    }
   ],
   "source": [
    "def find_odd(l):\n",
    "    odd = []\n",
    "    for i in l:\n",
    "        if i%2 == 0:\n",
    "            odd.append(i)\n",
    "    return odd\n",
    "\n",
    "find_odd([1,1,1,1,1,1,1,2])            "
   ]
  },
  {
   "cell_type": "code",
   "execution_count": null,
   "metadata": {},
   "outputs": [],
   "source": []
  }
 ]
}