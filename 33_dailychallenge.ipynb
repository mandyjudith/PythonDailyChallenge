{
 "metadata": {
  "language_info": {
   "codemirror_mode": {
    "name": "ipython",
    "version": 3
   },
   "file_extension": ".py",
   "mimetype": "text/x-python",
   "name": "python",
   "nbconvert_exporter": "python",
   "pygments_lexer": "ipython3",
   "version": "3.7.6-final"
  },
  "orig_nbformat": 2,
  "kernelspec": {
   "name": "python3",
   "display_name": "Python 3.7.6 64-bit (conda)",
   "metadata": {
    "interpreter": {
     "hash": "65217befdecd77df966a0fc871a0f674f96e08082e68f0c74d27e5780f39628d"
    }
   }
  }
 },
 "nbformat": 4,
 "nbformat_minor": 2,
 "cells": [
  {
   "source": [
    "Make a function that encrypts a given input with these steps:\n",
    "\n",
    "Input: \"apple\"\n",
    "\n",
    "Step 1: Reverse the input: \"elppa\"\n",
    "\n",
    "Step 2: Replace all vowels using the following chart:\n",
    "\n",
    "a => 0 e => 1 o => 2 u => 3\n",
    "\n",
    "#\"1lpp0\" \n",
    "\n",
    "Step 3: Add \"aca\" to the end of the word: \"1lpp0aca\"\n",
    "\n",
    "Output: \"1lpp0aca\"\n",
    "\n",
    "Examples\n",
    "\n",
    "encrypt(\"banana\") ➞ \"0n0n0baca\"\n",
    "\n",
    "encrypt(\"karaca\") ➞ \"0c0r0kaca\"\n",
    "\n",
    "encrypt(\"burak\") ➞ \"k0r3baca\"\n",
    "\n",
    "encrypt(\"alpaca\") ➞ \"0c0pl0aca\"\n"
   ],
   "cell_type": "markdown",
   "metadata": {}
  },
  {
   "cell_type": "code",
   "execution_count": 13,
   "metadata": {},
   "outputs": [],
   "source": [
    "def encrypt(s):\n",
    "    reverse_s = ''\n",
    "    for i in s[::-1]:\n",
    "        if i == 'a':\n",
    "            reverse_s += '0'\n",
    "        elif i == 'e':\n",
    "            reverse_s += '1'\n",
    "\n",
    "        elif i == 'o':\n",
    "            reverse_s += '2'\n",
    "\n",
    "        elif i == 'u':\n",
    "            reverse_s += '3'\n",
    "\n",
    "        else:\n",
    "            reverse_s += i\n",
    "\n",
    "    final_s = reverse_s + 'aca'\n",
    "\n",
    "    return final_s\n",
    "\n",
    "\n",
    "    "
   ]
  },
  {
   "cell_type": "code",
   "execution_count": 14,
   "metadata": {},
   "outputs": [
    {
     "output_type": "execute_result",
     "data": {
      "text/plain": [
       "'0n0n0baca'"
      ]
     },
     "metadata": {},
     "execution_count": 14
    }
   ],
   "source": [
    "encrypt(\"banana\")"
   ]
  },
  {
   "cell_type": "code",
   "execution_count": 15,
   "metadata": {},
   "outputs": [
    {
     "output_type": "execute_result",
     "data": {
      "text/plain": [
       "'0c0r0kaca'"
      ]
     },
     "metadata": {},
     "execution_count": 15
    }
   ],
   "source": [
    "encrypt(\"karaca\")"
   ]
  },
  {
   "cell_type": "code",
   "execution_count": 16,
   "metadata": {},
   "outputs": [
    {
     "output_type": "execute_result",
     "data": {
      "text/plain": [
       "'k0r3baca'"
      ]
     },
     "metadata": {},
     "execution_count": 16
    }
   ],
   "source": [
    "encrypt(\"burak\")"
   ]
  },
  {
   "cell_type": "code",
   "execution_count": 17,
   "metadata": {},
   "outputs": [
    {
     "output_type": "execute_result",
     "data": {
      "text/plain": [
       "'0c0pl0aca'"
      ]
     },
     "metadata": {},
     "execution_count": 17
    }
   ],
   "source": [
    "encrypt(\"alpaca\")"
   ]
  },
  {
   "cell_type": "code",
   "execution_count": null,
   "metadata": {},
   "outputs": [],
   "source": []
  }
 ]
}