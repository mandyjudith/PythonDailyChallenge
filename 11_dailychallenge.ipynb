{
 "metadata": {
  "language_info": {
   "codemirror_mode": {
    "name": "ipython",
    "version": 3
   },
   "file_extension": ".py",
   "mimetype": "text/x-python",
   "name": "python",
   "nbconvert_exporter": "python",
   "pygments_lexer": "ipython3",
   "version": "3.6.8-final"
  },
  "orig_nbformat": 2,
  "kernelspec": {
   "name": "python3",
   "display_name": "Python 3",
   "language": "python"
  }
 },
 "nbformat": 4,
 "nbformat_minor": 2,
 "cells": [
  {
   "source": [
    "Given a string, return the character with the most value. The value of a character is the difference between the index of its first occurrence and the index of its last occurrence. If there is a tie, return the character that goes first alphabetically.\n",
    "\n",
    "\n",
    "\n",
    "Example:\n",
    "\n",
    "Input: 'abcdbcd'\n",
    "\n",
    "Output: 'b', since difference between first index and last index = 4 - 1 = 3, which ties with the values of c and d but since b goes first alphabetically, that's the most valuable character.\n",
    "\n"
   ],
   "cell_type": "markdown",
   "metadata": {}
  },
  {
   "cell_type": "code",
   "execution_count": 69,
   "metadata": {},
   "outputs": [
    {
     "output_type": "stream",
     "name": "stdout",
     "text": [
      "[(0, 'a'), (1, 'c'), (2, 'b'), (3, 'd'), (4, 'c'), (5, 'b'), (6, 'd')]\n{'a': 0, 'c': 3, 'b': 3, 'd': 3}\n{'b': 3, 'c': 3, 'd': 3, 'a': 0}\n"
     ]
    },
    {
     "output_type": "execute_result",
     "data": {
      "text/plain": [
       "'b'"
      ]
     },
     "metadata": {},
     "execution_count": 69
    }
   ],
   "source": [
    "import string\n",
    "import operator\n",
    "from operator import itemgetter\n",
    "\n",
    "\n",
    "input_str = 'acbdcbd'\n",
    "def char_diff(input_str):\n",
    "    obj = list(enumerate(input_str))\n",
    "    d = {}\n",
    "    print(obj)\n",
    "    for i in range(len(obj)):\n",
    "        for j in range(len(obj)-1,-1,-1):\n",
    "            if obj[i][1] == obj[j][1]:\n",
    "                d[obj[i][1]]= abs(j - i)\n",
    "    print(d)\n",
    "    d =  dict(sorted(d.items(), key=lambda x: (-x[1],x[0]), reverse=False))  \n",
    "    print(d)  \n",
    "    max_val = max(d.items(), key=operator.itemgetter(1))[0]\n",
    "    return (max_val)\n",
    "    \n",
    "    \n",
    "\n",
    "\n",
    "char_diff(input_str)\n",
    "\n",
    "\n",
    "\n"
   ]
  },
  {
   "cell_type": "code",
   "execution_count": null,
   "metadata": {},
   "outputs": [],
   "source": []
  },
  {
   "cell_type": "code",
   "execution_count": null,
   "metadata": {},
   "outputs": [],
   "source": []
  }
 ]
}