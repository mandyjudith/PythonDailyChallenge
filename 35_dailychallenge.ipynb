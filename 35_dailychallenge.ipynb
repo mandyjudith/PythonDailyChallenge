{
 "metadata": {
  "language_info": {
   "codemirror_mode": {
    "name": "ipython",
    "version": 3
   },
   "file_extension": ".py",
   "mimetype": "text/x-python",
   "name": "python",
   "nbconvert_exporter": "python",
   "pygments_lexer": "ipython3",
   "version": "3.6.8-final"
  },
  "orig_nbformat": 2,
  "kernelspec": {
   "name": "python3",
   "display_name": "Python 3.6.8 64-bit ('anaconda3': virtualenv)",
   "metadata": {
    "interpreter": {
     "hash": "f1544c8d8b4d518102354955f85aa8f816b4a111d1a0283dd35a069e01cd5cb0"
    }
   }
  }
 },
 "nbformat": 4,
 "nbformat_minor": 2,
 "cells": [
  {
   "source": [
    "The factorial of a positive number n is the product of all numbers from 1 to n.\n",
    "\n",
    "5! = 5 x 4 x 3 x 2 x 1 = 120 \n",
    "\n",
    "The semifactorial (also known as the double factorial) of a positive number n is the product of all numbers from 1 to n that have the same parity (i.e. odd or even) as n.\n",
    "\n",
    "12!! = 12 x 10 x 8 x 6 x 4 x 2 = 46,080\n",
    "\n",
    "7!! = 7 x 5 x 3 x 1 = 105 \n",
    "\n",
    "The alternating factorial of a positive number n is the sum of the consecutive factorials from n to 1, where every other factorial is multiplied by -1.\n",
    "\n",
    "Alternating factorial of 1:\n",
    "\n",
    "af(1) = 1! \n",
    "\n",
    "Alternating factorial of 2:\n",
    "\n",
    "af(2) = 2! + (-1)x(1!) = 2! - 1! = 2 -1 = 1 \n",
    "\n",
    "Alternating factorial of 3:\n",
    "\n",
    "af(3) = 3! - 2! + 1! = 6 - 2 + 1 = 5 \n",
    "\n",
    "Create a function that takes a number n and returns the difference between the alternating factorial and semifactorial of n.\n",
    "\n",
    "Examples\n",
    "\n",
    "alt_semi(1) ➞ 0\n",
    "\n",
    "alt_semi(2) ➞ -1\n",
    "\n",
    "alt_semi(3)➞ 2"
   ],
   "cell_type": "markdown",
   "metadata": {}
  },
  {
   "cell_type": "code",
   "execution_count": 30,
   "metadata": {},
   "outputs": [],
   "source": [
    "def af(num):\n",
    "    count = 0\n",
    "    lst = []\n",
    "    for i in range(num,0,-1):\n",
    "        count += 1\n",
    "        fac = 1\n",
    "        if count %2 != 0:\n",
    "            for n in range(i,0,-1):\n",
    "                fac = fac*n\n",
    "            lst.append(fac)\n",
    "        else:\n",
    "            for n in range(i,0,-1):\n",
    "                fac = fac*n\n",
    "            lst.append(-(fac))\n",
    "\n",
    "    print(lst)\n",
    "    output = 0\n",
    "\n",
    "    for j in lst:\n",
    "        output += j\n",
    "\n",
    "    return output"
   ]
  },
  {
   "cell_type": "code",
   "execution_count": 31,
   "metadata": {},
   "outputs": [
    {
     "output_type": "stream",
     "name": "stdout",
     "text": [
      "[1]\n"
     ]
    },
    {
     "output_type": "execute_result",
     "data": {
      "text/plain": [
       "1"
      ]
     },
     "metadata": {},
     "execution_count": 31
    }
   ],
   "source": [
    "af(1)"
   ]
  },
  {
   "cell_type": "code",
   "execution_count": 32,
   "metadata": {},
   "outputs": [
    {
     "output_type": "stream",
     "name": "stdout",
     "text": [
      "[2, -1]\n"
     ]
    },
    {
     "output_type": "execute_result",
     "data": {
      "text/plain": [
       "1"
      ]
     },
     "metadata": {},
     "execution_count": 32
    }
   ],
   "source": [
    "af(2) "
   ]
  },
  {
   "cell_type": "code",
   "execution_count": 33,
   "metadata": {},
   "outputs": [
    {
     "output_type": "stream",
     "name": "stdout",
     "text": [
      "[6, -2, 1]\n"
     ]
    },
    {
     "output_type": "execute_result",
     "data": {
      "text/plain": [
       "5"
      ]
     },
     "metadata": {},
     "execution_count": 33
    }
   ],
   "source": [
    "af(3)"
   ]
  },
  {
   "cell_type": "code",
   "execution_count": 34,
   "metadata": {},
   "outputs": [],
   "source": [
    "def alt_semi(num):\n",
    "    semi = 1\n",
    "    for i in range(num,0,-2):\n",
    "        semi = semi*i\n",
    "\n",
    "    diff = af(num) - semi\n",
    "    \n",
    "    return diff\n",
    "\n"
   ]
  },
  {
   "cell_type": "code",
   "execution_count": 35,
   "metadata": {},
   "outputs": [
    {
     "output_type": "stream",
     "name": "stdout",
     "text": [
      "[1]\n"
     ]
    },
    {
     "output_type": "execute_result",
     "data": {
      "text/plain": [
       "0"
      ]
     },
     "metadata": {},
     "execution_count": 35
    }
   ],
   "source": [
    "alt_semi(1)"
   ]
  },
  {
   "cell_type": "code",
   "execution_count": 36,
   "metadata": {},
   "outputs": [
    {
     "output_type": "stream",
     "name": "stdout",
     "text": [
      "[2, -1]\n"
     ]
    },
    {
     "output_type": "execute_result",
     "data": {
      "text/plain": [
       "-1"
      ]
     },
     "metadata": {},
     "execution_count": 36
    }
   ],
   "source": [
    "alt_semi(2)"
   ]
  },
  {
   "cell_type": "code",
   "execution_count": 37,
   "metadata": {},
   "outputs": [
    {
     "output_type": "stream",
     "name": "stdout",
     "text": [
      "[6, -2, 1]\n"
     ]
    },
    {
     "output_type": "execute_result",
     "data": {
      "text/plain": [
       "2"
      ]
     },
     "metadata": {},
     "execution_count": 37
    }
   ],
   "source": [
    "alt_semi(3)"
   ]
  },
  {
   "cell_type": "code",
   "execution_count": null,
   "metadata": {},
   "outputs": [],
   "source": []
  }
 ]
}