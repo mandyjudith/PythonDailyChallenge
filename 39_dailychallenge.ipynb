{
 "metadata": {
  "language_info": {
   "codemirror_mode": {
    "name": "ipython",
    "version": 3
   },
   "file_extension": ".py",
   "mimetype": "text/x-python",
   "name": "python",
   "nbconvert_exporter": "python",
   "pygments_lexer": "ipython3",
   "version": "3.6.8"
  },
  "orig_nbformat": 2,
  "kernelspec": {
   "name": "python3",
   "display_name": "Python 3.6.8 64-bit ('base': conda)",
   "metadata": {
    "interpreter": {
     "hash": "f1544c8d8b4d518102354955f85aa8f816b4a111d1a0283dd35a069e01cd5cb0"
    }
   }
  }
 },
 "nbformat": 4,
 "nbformat_minor": 2,
 "cells": [
  {
   "source": [
    "A semiprime is a composite number that is the product of two primes. Apart from these two primes, its only other proper (non-self) divisor is 1.\n",
    "\n",
    "The two prime factors of a semiprime can be the same number (e.g. the semiprime 49 is the product of 7x7).\n",
    " \n",
    "A semiprime that has two distinct prime factors is called a squarefree semiprime.\n",
    "\n",
    "Create a function that takes a number and returns \"Squarefree Semiprime\", \"Semiprime\", or \"Neither\".\n",
    "\n",
    "Examples\n",
    "\n",
    "semiprime(49) ➞ \"Semiprime\"\n",
    "\n",
    "semiprime(15) ➞ \"Squarefree Semiprime\"\n",
    "\n",
    "semiprime(97) ➞ \"Neither\""
   ],
   "cell_type": "markdown",
   "metadata": {}
  },
  {
   "cell_type": "code",
   "execution_count": 4,
   "metadata": {},
   "outputs": [],
   "source": [
    "import math\n",
    "\n",
    "def check_prime(n):\n",
    "    if n <=0:\n",
    "        return 'Wrong Input!! Please input an integer that bigger than 0'\n",
    "    if n == 2:\n",
    "        return True\n",
    "    if n % 2 == 0 or n <= 1:\n",
    "        return False\n",
    "\n",
    "    sqr = int(math.sqrt(n)) + 1\n",
    "\n",
    "    for divisor in range(3, sqr, 2):\n",
    "        if n % divisor == 0:\n",
    "            return False\n",
    "    return True"
   ]
  },
  {
   "cell_type": "code",
   "execution_count": 5,
   "metadata": {},
   "outputs": [
    {
     "output_type": "execute_result",
     "data": {
      "text/plain": [
       "'Wrong Input!! Please input an integer that bigger than 0'"
      ]
     },
     "metadata": {},
     "execution_count": 5
    }
   ],
   "source": [
    "check_prime(-1)"
   ]
  },
  {
   "cell_type": "code",
   "execution_count": 6,
   "metadata": {},
   "outputs": [
    {
     "output_type": "execute_result",
     "data": {
      "text/plain": [
       "True"
      ]
     },
     "metadata": {},
     "execution_count": 6
    }
   ],
   "source": [
    "check_prime(97)"
   ]
  },
  {
   "cell_type": "code",
   "execution_count": 7,
   "metadata": {},
   "outputs": [],
   "source": [
    "def semiprime(num):\n",
    "    lst = []\n",
    "    for i in range(2,num):\n",
    "        if num%i == 0:\n",
    "            lst.append(i)\n",
    "\n",
    "    if len(lst)==0:\n",
    "         return \"Neither\"\n",
    "\n",
    "    else:\n",
    "        comb_lst = []\n",
    "        for j in lst:\n",
    "            k = int(num/j)\n",
    "            comb_lst.append([j,k])\n",
    "\n",
    "        for l in comb_lst:\n",
    "            print(l)\n",
    "            if len(set(l))==1:\n",
    "                if check_prime(l[0]):\n",
    "                    return \"Semiprime\"\n",
    "\n",
    "            else:\n",
    "                for n in l:\n",
    "                    check= []\n",
    "                    if check_prime(n):\n",
    "                        check.append('True')\n",
    "                    else:\n",
    "                        check.append('False')\n",
    "\n",
    "                    if set(check)=={'True'}:\n",
    "                        return \"Squarefree Semiprime\"\n",
    "\n",
    "                    else:\n",
    "                        return \"Neither\""
   ]
  },
  {
   "cell_type": "code",
   "execution_count": 8,
   "metadata": {},
   "outputs": [
    {
     "output_type": "stream",
     "name": "stdout",
     "text": [
      "[7, 7]\n"
     ]
    },
    {
     "output_type": "execute_result",
     "data": {
      "text/plain": [
       "'Semiprime'"
      ]
     },
     "metadata": {},
     "execution_count": 8
    }
   ],
   "source": [
    "semiprime(49)"
   ]
  },
  {
   "cell_type": "code",
   "execution_count": 9,
   "metadata": {},
   "outputs": [
    {
     "output_type": "stream",
     "name": "stdout",
     "text": [
      "[3, 5]\n"
     ]
    },
    {
     "output_type": "execute_result",
     "data": {
      "text/plain": [
       "'Squarefree Semiprime'"
      ]
     },
     "metadata": {},
     "execution_count": 9
    }
   ],
   "source": [
    "semiprime(15)"
   ]
  },
  {
   "cell_type": "code",
   "execution_count": 10,
   "metadata": {},
   "outputs": [
    {
     "output_type": "execute_result",
     "data": {
      "text/plain": [
       "'Neither'"
      ]
     },
     "metadata": {},
     "execution_count": 10
    }
   ],
   "source": [
    "semiprime(97)"
   ]
  },
  {
   "cell_type": "code",
   "execution_count": 11,
   "metadata": {},
   "outputs": [
    {
     "output_type": "execute_result",
     "data": {
      "text/plain": [
       "True"
      ]
     },
     "metadata": {},
     "execution_count": 11
    }
   ],
   "source": [
    "set(['True', 'True']) == {'True'}"
   ]
  }
 ]
}