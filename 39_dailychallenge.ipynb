{
 "metadata": {
  "language_info": {
   "codemirror_mode": {
    "name": "ipython",
    "version": 3
   },
   "file_extension": ".py",
   "mimetype": "text/x-python",
   "name": "python",
   "nbconvert_exporter": "python",
   "pygments_lexer": "ipython3",
   "version": "3.6.8"
  },
  "orig_nbformat": 2,
  "kernelspec": {
   "name": "python3",
   "display_name": "Python 3.6.8 64-bit ('base': conda)",
   "metadata": {
    "interpreter": {
     "hash": "f1544c8d8b4d518102354955f85aa8f816b4a111d1a0283dd35a069e01cd5cb0"
    }
   }
  }
 },
 "nbformat": 4,
 "nbformat_minor": 2,
 "cells": [
  {
   "source": [
    "A semiprime is a composite number that is the product of two primes. Apart from these two primes, its only other proper (non-self) divisor is 1.\n",
    "\n",
    "The two prime factors of a semiprime can be the same number (e.g. the semiprime 49 is the product of 7x7).\n",
    " \n",
    "A semiprime that has two distinct prime factors is called a squarefree semiprime.\n",
    "\n",
    "Create a function that takes a number and returns \"Squarefree Semiprime\", \"Semiprime\", or \"Neither\".\n",
    "\n",
    "Examples\n",
    "\n",
    "semiprime(49) ➞ \"Semiprime\"\n",
    "\n",
    "semiprime(15) ➞ \"Squarefree Semiprime\"\n",
    "\n",
    "semiprime(97) ➞ \"Neither\""
   ],
   "cell_type": "markdown",
   "metadata": {}
  },
  {
   "cell_type": "code",
   "execution_count": 64,
   "metadata": {},
   "outputs": [],
   "source": [
    "def check_prime(num):\n",
    "    if num <=0:\n",
    "        return 'Wrong Input!! Please input an integer that bigger than 0'\n",
    "    if num <=7:\n",
    "        if num in [1,3,5,7]:\n",
    "            return True\n",
    "        else:\n",
    "            return False\n",
    "    elif num > 7:\n",
    "        for i in range(2, num//2):\n",
    "            if (num % i) == 0:\n",
    "                return False\n",
    "            else:\n",
    "                return True"
   ]
  },
  {
   "cell_type": "code",
   "execution_count": 65,
   "metadata": {},
   "outputs": [
    {
     "output_type": "execute_result",
     "data": {
      "text/plain": [
       "'Wrong Input!! Please input an integer that bigger than 0'"
      ]
     },
     "metadata": {},
     "execution_count": 65
    }
   ],
   "source": [
    "check_prime(-1)"
   ]
  },
  {
   "cell_type": "code",
   "execution_count": 77,
   "metadata": {},
   "outputs": [
    {
     "output_type": "execute_result",
     "data": {
      "text/plain": [
       "True"
      ]
     },
     "metadata": {},
     "execution_count": 77
    }
   ],
   "source": [
    "check_prime(97)"
   ]
  },
  {
   "cell_type": "code",
   "execution_count": 82,
   "metadata": {},
   "outputs": [],
   "source": [
    "def semiprime(num):\n",
    "    lst = []\n",
    "    for i in range(2,num):\n",
    "        if num%i == 0:\n",
    "            lst.append(i)\n",
    "\n",
    "    if len(lst)==0:\n",
    "         return \"Neither\"\n",
    "\n",
    "    else:\n",
    "        comb_lst = []\n",
    "        for j in lst:\n",
    "            k = int(num/j)\n",
    "            comb_lst.append([j,k])\n",
    "\n",
    "        for l in comb_lst:\n",
    "            print(l)\n",
    "            if len(set(l))==1:\n",
    "                if check_prime(l[0]):\n",
    "                    return \"Semiprime\"\n",
    "\n",
    "            else:\n",
    "                for n in l:\n",
    "                    check= []\n",
    "                    if check_prime(n):\n",
    "                        check.append('True')\n",
    "                    else:\n",
    "                        check.append('False')\n",
    "\n",
    "                    if set(check)=={'True'}:\n",
    "                        return \"Squarefree Semiprime\"\n",
    "\n",
    "                    else:\n",
    "                        return \"Neither\""
   ]
  },
  {
   "cell_type": "code",
   "execution_count": 83,
   "metadata": {},
   "outputs": [
    {
     "output_type": "stream",
     "name": "stdout",
     "text": [
      "[7, 7]\n"
     ]
    },
    {
     "output_type": "execute_result",
     "data": {
      "text/plain": [
       "'Semiprime'"
      ]
     },
     "metadata": {},
     "execution_count": 83
    }
   ],
   "source": [
    "semiprime(49)"
   ]
  },
  {
   "cell_type": "code",
   "execution_count": 84,
   "metadata": {},
   "outputs": [
    {
     "output_type": "stream",
     "name": "stdout",
     "text": [
      "[3, 5]\n"
     ]
    },
    {
     "output_type": "execute_result",
     "data": {
      "text/plain": [
       "'Squarefree Semiprime'"
      ]
     },
     "metadata": {},
     "execution_count": 84
    }
   ],
   "source": [
    "semiprime(15)"
   ]
  },
  {
   "cell_type": "code",
   "execution_count": 85,
   "metadata": {},
   "outputs": [
    {
     "output_type": "execute_result",
     "data": {
      "text/plain": [
       "'Neither'"
      ]
     },
     "metadata": {},
     "execution_count": 85
    }
   ],
   "source": [
    "semiprime(97)"
   ]
  },
  {
   "cell_type": "code",
   "execution_count": 45,
   "metadata": {},
   "outputs": [
    {
     "output_type": "execute_result",
     "data": {
      "text/plain": [
       "True"
      ]
     },
     "metadata": {},
     "execution_count": 45
    }
   ],
   "source": [
    "set(['True', 'True']) == {'True'}"
   ]
  },
  {
   "cell_type": "code",
   "execution_count": null,
   "metadata": {},
   "outputs": [],
   "source": []
  }
 ]
}