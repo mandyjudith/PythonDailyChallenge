{
 "metadata": {
  "language_info": {
   "codemirror_mode": {
    "name": "ipython",
    "version": 3
   },
   "file_extension": ".py",
   "mimetype": "text/x-python",
   "name": "python",
   "nbconvert_exporter": "python",
   "pygments_lexer": "ipython3",
   "version": "3.6.8-final"
  },
  "orig_nbformat": 2,
  "kernelspec": {
   "name": "python3",
   "display_name": "Python 3",
   "language": "python"
  }
 },
 "nbformat": 4,
 "nbformat_minor": 2,
 "cells": [
  {
   "source": [
    "Given this class,\n",
    "\n",
    "class Employee:\n",
    "\n",
    "    def __init__(self, name, tens, twenties, fifties, hundreds):\n",
    "\n",
    "        self.name = name\n",
    "\n",
    "        self.tens = tens\n",
    "\n",
    "        self.twenties = twenties\n",
    "\n",
    "        self.fifties = fifties\n",
    "\n",
    "        self.hundreds = hundreds\n",
    "\n",
    "And given a list of Employees, return the name of the Employee that has the most money.\n",
    "\n",
    "\n",
    "\n",
    "Example:\n",
    "\n",
    "bob = Employee('Bob', 1, 2, 0, 0)\n",
    "\n",
    "john = Employee('John', 0, 0, 0, 1)\n",
    "\n",
    "\n",
    "\n",
    "Input list:\n",
    "\n",
    "[bob, john]\n",
    "\n",
    "\n",
    "\n",
    "Returns:\n",
    "\n",
    "'John', since he has a total of 100 dollars."
   ],
   "cell_type": "markdown",
   "metadata": {}
  },
  {
   "cell_type": "code",
   "execution_count": 36,
   "metadata": {},
   "outputs": [
    {
     "output_type": "execute_result",
     "data": {
      "text/plain": [
       "'Tom, since he has a total of 250 dollars.'"
      ]
     },
     "metadata": {},
     "execution_count": 36
    }
   ],
   "source": [
    "import operator\n",
    "\n",
    "class Employee:\n",
    "\n",
    "    def __init__(self, name, tens, twenties, fifties, hundreds):\n",
    "\n",
    "        self.name = name\n",
    "\n",
    "        self.tens = tens\n",
    "\n",
    "        self.twenties = twenties\n",
    "\n",
    "        self.fifties = fifties\n",
    "\n",
    "        self.hundreds = hundreds\n",
    "\n",
    "    def money(self):\n",
    "        money = int(((self.tens)*10) + ((self.twenties)*20) + ((self.fifties)*50) + ((self.hundreds)*100))\n",
    "        return money\n",
    "\n",
    "\n",
    "class Compare_Employee(Employee):\n",
    "\n",
    "    def __init__(self, name, tens, twenties, fifties, hundreds):\n",
    "\n",
    "        super().__init__(name, tens, twenties, fifties, hundreds)\n",
    "\n",
    "    def compare(self):\n",
    "\n",
    "        comp_dict = {}\n",
    "        for i in name_list:\n",
    "            comp_dict[i]=i.money()\n",
    "            # print(comp_dict)\n",
    "\n",
    "        money_max = max(comp_dict.items(), key=operator.itemgetter(1))[0]\n",
    "        \n",
    "\n",
    "        return (f'{money_max.name}, since he has a total of {comp_dict[money_max]} dollars.')\n",
    "\n",
    "\n",
    "\n",
    "\n",
    "\n",
    "john = Compare_Employee('John', 0, 0, 0, 1)\n",
    "bob = Compare_Employee('Bob', 1, 2, 0, 0)\n",
    "tom = Compare_Employee('Tom', 1, 2, 0, 2)\n",
    "name_list = [john,bob,tom]\n",
    "john.compare()\n",
    "\n",
    "\n",
    "\n"
   ]
  },
  {
   "cell_type": "code",
   "execution_count": null,
   "metadata": {},
   "outputs": [],
   "source": []
  }
 ]
}