{
 "metadata": {
  "language_info": {
   "codemirror_mode": {
    "name": "ipython",
    "version": 3
   },
   "file_extension": ".py",
   "mimetype": "text/x-python",
   "name": "python",
   "nbconvert_exporter": "python",
   "pygments_lexer": "ipython3",
   "version": "3.6.8-final"
  },
  "orig_nbformat": 2,
  "kernelspec": {
   "name": "python3",
   "display_name": "Python 3",
   "language": "python"
  }
 },
 "nbformat": 4,
 "nbformat_minor": 2,
 "cells": [
  {
   "source": [
    "Given a list of mixed integers of different representations, add up the non-string integers and subtract this from the total of string integers.\n",
    "\n",
    "\n",
    "\n",
    "Example:\n",
    "\n",
    "Input:\n",
    "\n",
    "[1, '2', 3, '4', 5]\n",
    "\n",
    "Output:\n",
    "\n",
    "-3, because:\n",
    "\n",
    "total of non-string integers = 1+3+5 = 9\n",
    "\n",
    "total of string integers = 2+4 = 6\n",
    "\n",
    "total of string integers - total of non-string integers = -3 \n",
    "\n"
   ],
   "cell_type": "markdown",
   "metadata": {}
  },
  {
   "cell_type": "code",
   "execution_count": 3,
   "metadata": {},
   "outputs": [
    {
     "output_type": "execute_result",
     "data": {
      "text/plain": [
       "-3"
      ]
     },
     "metadata": {},
     "execution_count": 3
    }
   ],
   "source": [
    "def add_sub(lst):\n",
    "    sum_int = 0\n",
    "    sum_str = 0\n",
    "    for item in lst:\n",
    "        if type(item)==int:\n",
    "            sum_int += item\n",
    "        elif type(item) == str:\n",
    "            sum_str += int(item)\n",
    "\n",
    "    return (sum_str-sum_int)\n",
    "\n",
    "lst = [1, '2', 3, '4', 5]\n",
    "add_sub(lst)\n",
    "\n"
   ]
  },
  {
   "cell_type": "code",
   "execution_count": null,
   "metadata": {},
   "outputs": [],
   "source": []
  }
 ]
}