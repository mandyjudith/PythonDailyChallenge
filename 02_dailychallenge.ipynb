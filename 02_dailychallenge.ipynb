{
 "metadata": {
  "language_info": {
   "codemirror_mode": {
    "name": "ipython",
    "version": 3
   },
   "file_extension": ".py",
   "mimetype": "text/x-python",
   "name": "python",
   "nbconvert_exporter": "python",
   "pygments_lexer": "ipython3",
   "version": "3.7.6-final"
  },
  "orig_nbformat": 2,
  "kernelspec": {
   "name": "python3",
   "display_name": "Python 3",
   "language": "python"
  }
 },
 "nbformat": 4,
 "nbformat_minor": 2,
 "cells": [
  {
   "cell_type": "code",
   "execution_count": null,
   "metadata": {},
   "outputs": [],
   "source": [
    "#Create a function that estimates the weight loss of a person using a certain weight loss program with their gender, current weight and how many weeks they plan to do the program as input. If the person follows the weight loss program, men can lose 1.5% of their body weight per week while women can lose 1.2% of their body weight per week.\n",
    "\n",
    "The possible inputs are:\n",
    "Gender: 'M' for Male, 'F' for Female\n",
    "Current weight: integer above 0\n",
    "Number of weeks: integer above 0\n",
    "Return the estimated weight after the specified number of weeks. def lose_weight(gender, weight, duration):\n",
    "             return weight"
   ]
  },
  {
   "cell_type": "code",
   "execution_count": 11,
   "metadata": {},
   "outputs": [
    {
     "output_type": "stream",
     "name": "stdout",
     "text": [
      "58.56864\n"
     ]
    }
   ],
   "source": [
    "def lose_weight(gender, weight, duration):\n",
    "    if gender == 'M':\n",
    "        weight = weight*(1-0.015)**duration\n",
    "    elif gender == 'F':\n",
    "        weight = weight*(1-0.012)**duration\n",
    "    return weight\n",
    "\n",
    "\n",
    "\n",
    "gender = input(\"Enter 'M' for Male or 'F' for Female: \") \n",
    "\n",
    "weight = int(input(\"Enter your Current Weight: \")) \n",
    "\n",
    "duration = int(input(\"Enter the number of weeks: \")) \n",
    "\n",
    "print(lose_weight(gender, weight, duration))"
   ]
  },
  {
   "cell_type": "code",
   "execution_count": null,
   "metadata": {},
   "outputs": [],
   "source": []
  }
 ]
}