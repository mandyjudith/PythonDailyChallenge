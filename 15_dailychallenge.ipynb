{
 "metadata": {
  "language_info": {
   "codemirror_mode": {
    "name": "ipython",
    "version": 3
   },
   "file_extension": ".py",
   "mimetype": "text/x-python",
   "name": "python",
   "nbconvert_exporter": "python",
   "pygments_lexer": "ipython3",
   "version": "3.7.6-final"
  },
  "orig_nbformat": 2,
  "kernelspec": {
   "name": "python3",
   "display_name": "Python 3",
   "language": "python"
  }
 },
 "nbformat": 4,
 "nbformat_minor": 2,
 "cells": [
  {
   "source": [
    "Given two lists of any data type, return a list that combines the two lists by alternating the elements passed. The input lists can be of different lengths.\n",
    "\n",
    "\n",
    "\n",
    "Example 1:\n",
    "\n",
    "Input lists: \n",
    "\n",
    "[1, 2, 3, 4, 5]\n",
    "\n",
    "['a', 'b', 'c', 'd', 'e']\n",
    "\n",
    "Returns:\n",
    "\n",
    "[1, 'a', 2, b', 3, 'c', 4, 'd', 5, 'e']\n",
    "\n",
    "\n",
    "\n",
    "Example 2:\n",
    "\n",
    "Input lists:\n",
    "\n",
    "[1, 2, 3]\n",
    "\n",
    "['a', 'b', 'c', 'd', 'e']\n",
    "\n",
    "Returns:\n",
    "\n",
    "[1, 'a', 2, 'b', 3, 'c', 'd', 'e']\n",
    "\n",
    "\n",
    "\n",
    "Example 3:\n",
    "\n",
    "Input lists:\n",
    "\n",
    "[1, 2, 3, 4, 5]\n",
    "\n",
    "['a', 'b']\n",
    "\n",
    "Returns:\n",
    "\n",
    "[1, 'a', 2, 'b', 3, 4, 5]\n",
    "\n"
   ],
   "cell_type": "markdown",
   "metadata": {}
  },
  {
   "cell_type": "code",
   "execution_count": 14,
   "metadata": {},
   "outputs": [
    {
     "output_type": "execute_result",
     "data": {
      "text/plain": [
       "[1, 'a', 2, 'b', 3, 'c', 'd', 'e']"
      ]
     },
     "metadata": {},
     "execution_count": 14
    }
   ],
   "source": [
    "def combine(list1,list2):\n",
    "    if len(list1)== len(list2):\n",
    "        result = [None]*(len(list1)+len(list2))\n",
    "        result[::2] = list1\n",
    "        result[1::2] = list2\n",
    "    else:\n",
    "        if len(list1)>len(list2):\n",
    "            result= [None]*(len(list2)*2)\n",
    "            result[::2] = list1[0:len(list2)]\n",
    "            result[1::2] = list2\n",
    "            for i in range(len(list2),len(list1)):\n",
    "                result.append(list1[i])\n",
    "        else:\n",
    "            result= [None]*(len(list1)*2)\n",
    "            result[::2] = list1\n",
    "            result[1::2] = list2[0:len(list1)]\n",
    "            for i in range(len(list1),len(list2)):\n",
    "                result.append(list2[i])\n",
    "\n",
    "\n",
    "    return result\n",
    "\n",
    "list1 = [1, 2, 3]\n",
    "list2 = ['a', 'b', 'c', 'd', 'e']\n",
    "\n",
    "combine(list1,list2)\n",
    "    \n",
    "\n"
   ]
  },
  {
   "cell_type": "code",
   "execution_count": null,
   "metadata": {},
   "outputs": [],
   "source": []
  }
 ]
}