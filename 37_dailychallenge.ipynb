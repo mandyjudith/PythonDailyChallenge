{
 "metadata": {
  "language_info": {
   "codemirror_mode": {
    "name": "ipython",
    "version": 3
   },
   "file_extension": ".py",
   "mimetype": "text/x-python",
   "name": "python",
   "nbconvert_exporter": "python",
   "pygments_lexer": "ipython3",
   "version": "3.6.8-final"
  },
  "orig_nbformat": 2,
  "kernelspec": {
   "name": "python3",
   "display_name": "Python 3.6.8 64-bit ('base': conda)",
   "metadata": {
    "interpreter": {
     "hash": "f1544c8d8b4d518102354955f85aa8f816b4a111d1a0283dd35a069e01cd5cb0"
    }
   }
  }
 },
 "nbformat": 4,
 "nbformat_minor": 2,
 "cells": [
  {
   "source": [
    "Standard competition ranking (also known as \"1224\" ranking) assigns the same rank to matching values. Rank numbers are increased each time, so ranks are sometimes skipped. If we have 5 scores (the highest score having a rank of 1):\n",
    "\n",
    "No matching values:\n",
    "\n",
    "Scores = [99, 98, 97, 96, 95] Rank = 1, 2, 3, 4, 5 \n",
    "\n",
    "With matching values:\n",
    "\n",
    "Scores = [99, 98, 98, 96, 95] Rank = 1, 2, 2, 4, 5\n",
    "\n",
    "Second and third scores are equal, so rank \"3\" is skipped.\n",
    "\n",
    "Given a dictionary containing the names and scores of 5 competitors, and a competitor name, return the rank of that competitor after applying competition ranking.\n",
    "\n",
    "Examples\n",
    "\n",
    "competition_rank({ \"George\": 96, \"Emily\": 95, \"Susan\": 93, \"Jane\": 89, \"Brett\": 82 }, \"Jane\") ➞ 4\n",
    "\n",
    "competition_rank({ \"Kate\": 92, \"Carol\": 92, \"Jess\": 87, \"Bruce\": 87, \"Scott\": 84 }, \"Bruce\") ➞ 3\n"
   ],
   "cell_type": "markdown",
   "metadata": {}
  },
  {
   "cell_type": "code",
   "execution_count": 15,
   "metadata": {},
   "outputs": [],
   "source": [
    "import ranking\n",
    "\n",
    "def competition_rank(d,name):\n",
    "    score_list = list(d.items())\n",
    "    get_score = lambda pair: pair[1]\n",
    "    score_list.sort(key=get_score,reverse=True)\n",
    "\n",
    "    new_d = {}\n",
    "\n",
    "    for rank, (player, score) in ranking.Ranking(score_list, key=get_score, start=1):\n",
    "        new_d[player] = rank\n",
    "\n",
    "    return new_d[name]\n"
   ]
  },
  {
   "cell_type": "code",
   "execution_count": 16,
   "metadata": {},
   "outputs": [
    {
     "output_type": "execute_result",
     "data": {
      "text/plain": [
       "4"
      ]
     },
     "metadata": {},
     "execution_count": 16
    }
   ],
   "source": [
    "competition_rank({ \"George\": 96, \"Emily\": 95, \"Susan\": 93, \"Jane\": 89, \"Brett\": 82 }, \"Jane\")"
   ]
  },
  {
   "cell_type": "code",
   "execution_count": 18,
   "metadata": {},
   "outputs": [
    {
     "output_type": "execute_result",
     "data": {
      "text/plain": [
       "1"
      ]
     },
     "metadata": {},
     "execution_count": 18
    }
   ],
   "source": [
    "competition_rank({ \"Kate\": 92, \"Carol\": 92, \"Jess\": 87, \"Bruce\": 87, \"Scott\": 84 },  \"Carol\")"
   ]
  },
  {
   "source": [
    "## My Trial"
   ],
   "cell_type": "markdown",
   "metadata": {}
  },
  {
   "cell_type": "code",
   "execution_count": 1,
   "metadata": {},
   "outputs": [],
   "source": [
    "d = { \"George\": 96, \"Emily\": 95, \"Susan\": 93, \"Jane\": 89, \"Brett\": 82 }"
   ]
  },
  {
   "cell_type": "code",
   "execution_count": 2,
   "metadata": {},
   "outputs": [
    {
     "output_type": "execute_result",
     "data": {
      "text/plain": [
       "[('George', 96), ('Emily', 95), ('Susan', 93), ('Jane', 89), ('Brett', 82)]"
      ]
     },
     "metadata": {},
     "execution_count": 2
    }
   ],
   "source": [
    "import ranking\n",
    "\n",
    "score_list = list(d.items())\n",
    "score_list"
   ]
  },
  {
   "cell_type": "code",
   "execution_count": 3,
   "metadata": {},
   "outputs": [],
   "source": [
    "get_score = lambda pair: pair[1]"
   ]
  },
  {
   "cell_type": "code",
   "execution_count": 8,
   "metadata": {},
   "outputs": [],
   "source": [
    "score_list.sort(key=get_score,reverse=True)"
   ]
  },
  {
   "cell_type": "code",
   "execution_count": 9,
   "metadata": {},
   "outputs": [],
   "source": [
    "format_str = '{player:10}   {score:<10}    {rank}'\n"
   ]
  },
  {
   "cell_type": "code",
   "execution_count": 13,
   "metadata": {},
   "outputs": [
    {
     "output_type": "stream",
     "name": "stdout",
     "text": [
      "Player       Score         Position\nGeorge       96            1\nEmily        95            2\nSusan        93            3\nJane         89            4\nBrett        82            5\n"
     ]
    }
   ],
   "source": [
    "print(format_str.format(player=\"Player\", score=\"Score\", rank=\"Position\"))\n",
    "new_d = {}\n",
    "\n",
    "for rank, (player, score) in ranking.Ranking(score_list, key=get_score, start=1):\n",
    "    new_d[player] = rank\n",
    "    print(format_str.format(rank=rank, player=player, score=score))"
   ]
  },
  {
   "cell_type": "code",
   "execution_count": 14,
   "metadata": {},
   "outputs": [
    {
     "output_type": "execute_result",
     "data": {
      "text/plain": [
       "{'George': 1, 'Emily': 2, 'Susan': 3, 'Jane': 4, 'Brett': 5}"
      ]
     },
     "metadata": {},
     "execution_count": 14
    }
   ],
   "source": [
    "new_d"
   ]
  },
  {
   "cell_type": "code",
   "execution_count": 12,
   "metadata": {},
   "outputs": [
    {
     "output_type": "execute_result",
     "data": {
      "text/plain": [
       "{'George': 96, 'Emily': 95, 'Susan': 93, 'Jane': 89, 'Brett': 82}"
      ]
     },
     "metadata": {},
     "execution_count": 12
    }
   ],
   "source": [
    "d2 = {k: v for k, v in sorted(d.items(), key=lambda item: item[1],reverse=True)}\n",
    "d2"
   ]
  }
 ]
}