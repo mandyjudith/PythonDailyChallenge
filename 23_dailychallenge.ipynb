{
 "metadata": {
  "language_info": {
   "codemirror_mode": {
    "name": "ipython",
    "version": 3
   },
   "file_extension": ".py",
   "mimetype": "text/x-python",
   "name": "python",
   "nbconvert_exporter": "python",
   "pygments_lexer": "ipython3",
   "version": "3.7.6-final"
  },
  "orig_nbformat": 2,
  "kernelspec": {
   "name": "python3",
   "display_name": "Python 3",
   "language": "python"
  }
 },
 "nbformat": 4,
 "nbformat_minor": 2,
 "cells": [
  {
   "source": [
    "Given an input integer x, return a list of integers in which the sum is equal to x. The integers inside the list must consist of values that are a power of 3. For example:\n",
    "\n",
    "1 is a possible number of the list because of 3^0 => 1\n",
    "\n",
    "3 is also a possible number of the list because 3^1 => 3\n",
    "\n",
    "and so on.\n",
    "\n",
    "\n",
    "\n",
    "Example:\n",
    "\n",
    "Input: \n",
    "\n",
    "4\n",
    "\n",
    "\n",
    "\n",
    "Output:\n",
    "\n",
    "[1, 3]\n",
    "\n",
    "Because 1 +3 = 4 \n",
    "\n",
    "And 3^0 => 1 and 3^1 => 3\n",
    "\n",
    "\n",
    "\n",
    "Invalid output:\n",
    "\n",
    "[2, 2]\n",
    "\n",
    "Even though 2 + 2 = 4, \n",
    "\n",
    "2 is not a power of 3. \n",
    "\n",
    "Therefore, 2 is an invalid output in the list.\n",
    "\n"
   ],
   "cell_type": "markdown",
   "metadata": {}
  },
  {
   "cell_type": "code",
   "execution_count": 1,
   "metadata": {},
   "outputs": [
    {
     "output_type": "stream",
     "name": "stdout",
     "text": [
      "True\n"
     ]
    }
   ],
   "source": [
    "def is_Power_of_three(n):\n",
    "    while (n % 3 == 0):\n",
    "         n /= 3    \n",
    "    return n == 1\n",
    "\n",
    "print(is_Power_of_three(9))"
   ]
  },
  {
   "cell_type": "code",
   "execution_count": 21,
   "metadata": {
    "tags": []
   },
   "outputs": [
    {
     "output_type": "execute_result",
     "data": {
      "text/plain": [
       "[27, 9, 3, 1, 9, 1]"
      ]
     },
     "metadata": {},
     "execution_count": 21
    }
   ],
   "source": [
    "def sum_power(n):\n",
    "    total = n\n",
    "    total_list = []\n",
    "    output = []\n",
    "    while total > 0:\n",
    "        for i in range(1,n+1):\n",
    "            if is_Power_of_three(i):\n",
    "                total_list.append(i)\n",
    "\n",
    "        total_list_2 = total_list[::-1]\n",
    "\n",
    "        for j in total_list_2:\n",
    "            if total > 0:\n",
    "                if (total-j)>=0:\n",
    "                    total -= j \n",
    "                    output.append(j)\n",
    "\n",
    "            elif total < 0 :\n",
    "                continue\n",
    "\n",
    "            else:\n",
    "                break\n",
    "\n",
    "\n",
    "    return output\n",
    "            \n",
    "\n",
    "\n",
    "sum_power(50)\n"
   ]
  },
  {
   "cell_type": "code",
   "execution_count": null,
   "metadata": {},
   "outputs": [],
   "source": []
  }
 ]
}