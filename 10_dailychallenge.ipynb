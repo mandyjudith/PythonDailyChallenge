{
 "metadata": {
  "language_info": {
   "codemirror_mode": {
    "name": "ipython",
    "version": 3
   },
   "file_extension": ".py",
   "mimetype": "text/x-python",
   "name": "python",
   "nbconvert_exporter": "python",
   "pygments_lexer": "ipython3",
   "version": "3.6.8-final"
  },
  "orig_nbformat": 2,
  "kernelspec": {
   "name": "python3",
   "display_name": "Python 3",
   "language": "python"
  }
 },
 "nbformat": 4,
 "nbformat_minor": 2,
 "cells": [
  {
   "source": [
    "Given an integer, create a function that finds and returns the length of the longest binary gap of the binary representation of that integer. A binary gap is the sequence of consecutive zeros in between ones in a binary representation. Reference for binary representation can be found here: https://www.rapidtables.com/convert/number/decimal-to-binary.html\n",
    "\n",
    "\n",
    "\n",
    "Example:\n",
    "\n",
    "Input: 9, which has binary representation 1001\n",
    "\n",
    "Returns: 2\n",
    "\n",
    "Input: 529, which has binary representation 1000010001\n",
    "\n",
    "Returns: 4\n",
    "\n",
    "Input: 20, which has binary representation 10100\n",
    "\n",
    "Returns: 1\n",
    "\n",
    "Input: 15, which has binary representation 1111\n",
    "Returns: 0\n",
    "\n"
   ],
   "cell_type": "markdown",
   "metadata": {}
  },
  {
   "cell_type": "code",
   "execution_count": 27,
   "metadata": {},
   "outputs": [
    {
     "output_type": "stream",
     "name": "stdout",
     "text": [
      "1001\n2\n1000010001\n4\n10100\n1\n1111\n0\n"
     ]
    }
   ],
   "source": [
    "def binary(num):\n",
    "    if num >= 1:\n",
    "        return bin(num).replace(\"0b\", \"\")\n",
    "def zero_count(n):\n",
    "    count_one = 0\n",
    "    count_zero = 0\n",
    "    for i in n:\n",
    "        if i == '1':\n",
    "            count_one +=1\n",
    "            \n",
    "        elif i == '0':\n",
    "            count_zero +=1\n",
    "\n",
    "        if count_one == 2:\n",
    "            break\n",
    "    return count_zero \n",
    "\n",
    "  \n",
    "n = binary(9)\n",
    "print(n)\n",
    "print(zero_count(n))\n",
    "\n",
    "n = binary(529)\n",
    "print(n)\n",
    "print(zero_count(n))\n",
    "\n",
    "n = binary(20)\n",
    "print(n)\n",
    "print(zero_count(n))\n",
    "\n",
    "n = binary(15)\n",
    "print(n)\n",
    "print(zero_count(n))\n",
    " "
   ]
  },
  {
   "cell_type": "code",
   "execution_count": null,
   "metadata": {},
   "outputs": [],
   "source": []
  }
 ]
}