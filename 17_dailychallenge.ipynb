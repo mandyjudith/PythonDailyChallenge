{
 "metadata": {
  "language_info": {
   "codemirror_mode": {
    "name": "ipython",
    "version": 3
   },
   "file_extension": ".py",
   "mimetype": "text/x-python",
   "name": "python",
   "nbconvert_exporter": "python",
   "pygments_lexer": "ipython3",
   "version": "3.6.8-final"
  },
  "orig_nbformat": 2,
  "kernelspec": {
   "name": "python3",
   "display_name": "Python 3",
   "language": "python"
  }
 },
 "nbformat": 4,
 "nbformat_minor": 2,
 "cells": [
  {
   "source": [
    "Given a list of 11 integers, return a string in the form of a Hong Kong phone number in this format: +852 xxxx xxxx\n",
    "\n",
    "Only the numbers 2, 3, 5, 6, 7, and 9 can be added after the extension 852.\n",
    "\n",
    "\n",
    "\n",
    "Example 1:\n",
    "\n",
    "Input:\n",
    "\n",
    "[1, 2, 3, 4, 5, 6, 7, 8, 9, 0, 1]\n",
    "\n",
    "Returns:\n",
    "\n",
    "\"+852 9134 6701\"\n",
    "\n"
   ],
   "cell_type": "markdown",
   "metadata": {}
  },
  {
   "cell_type": "code",
   "execution_count": 24,
   "metadata": {},
   "outputs": [
    {
     "output_type": "execute_result",
     "data": {
      "text/plain": [
       "'+85274011693'"
      ]
     },
     "metadata": {},
     "execution_count": 24
    }
   ],
   "source": [
    "import random\n",
    "\n",
    "def phone_num(lst):\n",
    "    tel = '+852'\n",
    "    lst.pop(lst.index(8))\n",
    "    lst.pop(lst.index(5))\n",
    "    lst.pop(lst.index(2))\n",
    "\n",
    "    while len(lst)>0:\n",
    "        if len(lst)==8:\n",
    "            num = random.choice([x for x in [2,3,5,6,7,9] if x in lst])\n",
    "            tel += str(num)\n",
    "            lst.pop(lst.index(num))\n",
    "        else:\n",
    "            num = random.choice(lst)\n",
    "            tel += str(num)\n",
    "            lst.pop(lst.index(num))\n",
    "\n",
    "    return tel\n",
    "\n",
    "phone_num([1, 2, 3, 4, 5, 6, 7, 8, 9, 0, 1])\n",
    "\n"
   ]
  },
  {
   "cell_type": "code",
   "execution_count": 5,
   "metadata": {},
   "outputs": [
    {
     "output_type": "stream",
     "name": "stdout",
     "text": [
      "b\n"
     ]
    }
   ],
   "source": [
    "import random\n",
    "\n",
    "foo = ['a', 'b', 'c', 'd', 'e']\n",
    "print(random.choice(foo))"
   ]
  },
  {
   "cell_type": "code",
   "execution_count": null,
   "metadata": {},
   "outputs": [],
   "source": []
  }
 ]
}