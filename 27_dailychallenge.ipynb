{
 "metadata": {
  "language_info": {
   "codemirror_mode": {
    "name": "ipython",
    "version": 3
   },
   "file_extension": ".py",
   "mimetype": "text/x-python",
   "name": "python",
   "nbconvert_exporter": "python",
   "pygments_lexer": "ipython3",
   "version": "3.7.6"
  },
  "orig_nbformat": 2,
  "kernelspec": {
   "name": "python3",
   "display_name": "Python 3.7.6 64-bit (conda)",
   "metadata": {
    "interpreter": {
     "hash": "65217befdecd77df966a0fc871a0f674f96e08082e68f0c74d27e5780f39628d"
    }
   }
  }
 },
 "nbformat": 4,
 "nbformat_minor": 2,
 "cells": [
  {
   "source": [
    "Mona has created a method to sort a list in ascending order.\n",
    "\n",
    "Starting from the left of the list, she compares numbers by pairs. If the first pair is ordered [smaller number, larger number], she moves on. \n",
    "\n",
    "If the first pair is ordered [larger number, smaller number], she swaps the two integers before moving on to the next pair. She repeats this process until she reaches the end of the list.\n",
    "\n",
    "Then, she moves back to the beginning of the list and repeats this process until the entire list is sorted.\n",
    "\n",
    "If the unsorted list is: [3, 9, 7, 4], she will perform the following steps (note Swaps here refers to cumulative swaps):\n",
    "She starts with the first pair. \n",
    "\n",
    "[3, 9] is in order, move on. List: [3, 9, 7, 4]. Swaps: 0. \n",
    "\n",
    "[9, 7] is not. Swap. List: [3, 7, 9, 4]. Swaps: 1 \n",
    "\n",
    "[9, 4] is not. Swap. List: [3, 7, 4, 9]. Swaps: 2 \n",
    "\n",
    "Check if list is sorted. It is not, so start over at first pair. \n",
    "\n",
    "[3, 7] is in order, move on. List: [3, 7, 4, 9]. \n",
    "\n",
    "Swaps: 2 [7, 4] is not. Swap. List: [3, 4, 7, 9]. \n",
    "\n",
    "Swaps: 3. [7, 9] is in order, move on. List: [3, 4, 7, 9]. \n",
    "\n",
    "Swaps: 3. Check if list is sorted. It is. End. \n",
    "\n",
    "Sorting the list [3, 9, 7, 4] takes her 3 swaps. \n",
    "\n",
    "Write a function that takes in an unsorted list and returns the number of swaps it takes for the list to be sorted according to Mona's algorithm.\n",
    "\n",
    "Examples\n",
    "\n",
    "number_of_swaps([5, 4, 3]) ➞ 3\n",
    "\n",
    "number_of_swaps([1, 3, 4, 5]) ➞ 0\n",
    "\n",
    "number_of_swaps([5, 4, 3, 2]) ➞ 6\n"
   ],
   "cell_type": "markdown",
   "metadata": {}
  },
  {
   "cell_type": "code",
   "execution_count": 14,
   "metadata": {},
   "outputs": [],
   "source": [
    "def number_of_swaps(lst):\n",
    "    swap = 0 \n",
    "    sorted_list = sorted(lst)\n",
    "\n",
    "    while sorted_list != lst:\n",
    "        for i in range(len(lst)-1):\n",
    "            if lst[i] > lst[i+1]:\n",
    "                lst[i],lst[i+1] = lst[i+1], lst[i]\n",
    "                swap += 1\n",
    "\n",
    "    return swap\n",
    "        \n"
   ]
  },
  {
   "cell_type": "code",
   "execution_count": 16,
   "metadata": {},
   "outputs": [
    {
     "output_type": "execute_result",
     "data": {
      "text/plain": [
       "3"
      ]
     },
     "metadata": {},
     "execution_count": 16
    }
   ],
   "source": [
    "number_of_swaps([5, 4, 3])"
   ]
  },
  {
   "cell_type": "code",
   "execution_count": 15,
   "metadata": {},
   "outputs": [
    {
     "output_type": "execute_result",
     "data": {
      "text/plain": [
       "0"
      ]
     },
     "metadata": {},
     "execution_count": 15
    }
   ],
   "source": [
    "number_of_swaps([1, 3, 4, 5])"
   ]
  },
  {
   "cell_type": "code",
   "execution_count": 17,
   "metadata": {},
   "outputs": [
    {
     "output_type": "execute_result",
     "data": {
      "text/plain": [
       "6"
      ]
     },
     "metadata": {},
     "execution_count": 17
    }
   ],
   "source": [
    "number_of_swaps([5, 4, 3, 2])"
   ]
  },
  {
   "cell_type": "code",
   "execution_count": null,
   "metadata": {},
   "outputs": [],
   "source": []
  }
 ]
}