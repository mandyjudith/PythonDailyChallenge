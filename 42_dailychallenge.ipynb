{
 "metadata": {
  "language_info": {
   "codemirror_mode": {
    "name": "ipython",
    "version": 3
   },
   "file_extension": ".py",
   "mimetype": "text/x-python",
   "name": "python",
   "nbconvert_exporter": "python",
   "pygments_lexer": "ipython3",
   "version": "3.6.8"
  },
  "orig_nbformat": 2,
  "kernelspec": {
   "name": "python3",
   "display_name": "Python 3.6.8 64-bit ('base': conda)",
   "metadata": {
    "interpreter": {
     "hash": "f1544c8d8b4d518102354955f85aa8f816b4a111d1a0283dd35a069e01cd5cb0"
    }
   }
  }
 },
 "nbformat": 4,
 "nbformat_minor": 2,
 "cells": [
  {
   "source": [
    "Write a function that replaces each integer with the next largest in the list.\n",
    "\n",
    "Examples\n",
    "\n",
    "replace_next_largest([5, 7, 3, 2, 8]) ➞ [7, 8, 5, 3, -1]\n",
    "\n",
    "replace_next_largest([2, 3, 4, 5]) ➞ [3, 4, 5, -1]\n",
    "\n",
    "replace_next_largest([1, 0, -1, 8, -72]) ➞ [8, 1, 0, -1, -1]"
   ],
   "cell_type": "markdown",
   "metadata": {}
  },
  {
   "cell_type": "code",
   "execution_count": null,
   "metadata": {},
   "outputs": [],
   "source": []
  },
  {
   "source": [
    "Given an array of integers, replace every element with the next greatest element (greatest element on the right side) in the array.\n",
    "\n",
    "Since there is no element next to the last element, replace it with -1. \n",
    "\n",
    "For example, if the array is {16, 17, 4, 3, 5, 2}, then it should be modified to {17, 5, 5, 5, 2, -1}."
   ],
   "cell_type": "markdown",
   "metadata": {}
  },
  {
   "cell_type": "code",
   "execution_count": 34,
   "metadata": {},
   "outputs": [],
   "source": [
    "def replace_next_largest(arr):\n",
    "    lst = []\n",
    "    for i in range(len(arr)):\n",
    "        for j in arr[(i+1):]:\n",
    "            if j == max(arr[(i+1):]): \n",
    "                lst.append(j)\n",
    "    lst.append(-1)\n",
    "\n",
    "    return lst\n"
   ]
  },
  {
   "cell_type": "code",
   "execution_count": 35,
   "metadata": {},
   "outputs": [
    {
     "output_type": "execute_result",
     "data": {
      "text/plain": [
       "[17, 5, 5, 5, 2, -1]"
      ]
     },
     "metadata": {},
     "execution_count": 35
    }
   ],
   "source": [
    "replace_next_largest([16, 17, 4, 3, 5, 2])"
   ]
  },
  {
   "cell_type": "code",
   "execution_count": 36,
   "metadata": {},
   "outputs": [
    {
     "output_type": "execute_result",
     "data": {
      "text/plain": [
       "[8, 8, 8, 8, -1]"
      ]
     },
     "metadata": {},
     "execution_count": 36
    }
   ],
   "source": [
    "replace_next_largest([5, 7, 3, 2, 8])"
   ]
  },
  {
   "cell_type": "code",
   "execution_count": 37,
   "metadata": {},
   "outputs": [
    {
     "output_type": "execute_result",
     "data": {
      "text/plain": [
       "[5, 5, 5, -1]"
      ]
     },
     "metadata": {},
     "execution_count": 37
    }
   ],
   "source": [
    "replace_next_largest([2, 3, 4, 5])"
   ]
  },
  {
   "cell_type": "code",
   "execution_count": 38,
   "metadata": {},
   "outputs": [
    {
     "output_type": "execute_result",
     "data": {
      "text/plain": [
       "[8, 8, 8, -72, -1]"
      ]
     },
     "metadata": {},
     "execution_count": 38
    }
   ],
   "source": [
    "replace_next_largest([1, 0, -1, 8, -72]) "
   ]
  },
  {
   "cell_type": "code",
   "execution_count": null,
   "metadata": {},
   "outputs": [],
   "source": []
  }
 ]
}