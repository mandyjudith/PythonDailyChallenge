{
 "metadata": {
  "language_info": {
   "codemirror_mode": {
    "name": "ipython",
    "version": 3
   },
   "file_extension": ".py",
   "mimetype": "text/x-python",
   "name": "python",
   "nbconvert_exporter": "python",
   "pygments_lexer": "ipython3",
   "version": "3.6.8-final"
  },
  "orig_nbformat": 2,
  "kernelspec": {
   "name": "python3",
   "display_name": "Python 3",
   "language": "python"
  }
 },
 "nbformat": 4,
 "nbformat_minor": 2,
 "cells": [
  {
   "source": [
    "Given a string, add or subtract numbers and return the answer.\n",
    "\n",
    "\n",
    "\n",
    "Example:\n",
    "\n",
    "Input: 1plus2plus3minus4\n",
    "\n",
    "Output: 2\n",
    "\n",
    "\n",
    "\n",
    "Input: 2minus6plus4plus7\n",
    "\n",
    "Output: 7\n",
    "\n"
   ],
   "cell_type": "markdown",
   "metadata": {}
  },
  {
   "cell_type": "code",
   "execution_count": 12,
   "metadata": {},
   "outputs": [
    {
     "output_type": "stream",
     "name": "stdout",
     "text": [
      "2\n7\n"
     ]
    }
   ],
   "source": [
    "def trans(s):\n",
    "    s= s.replace('plus','+')\n",
    "    s= s.replace('minus','-')\n",
    "    return eval(s)\n",
    "\n",
    "s= '1plus2plus3minus4'\n",
    "print(trans(s))\n",
    "p= '2minus6plus4plus7'\n",
    "print(trans(p))"
   ]
  },
  {
   "cell_type": "code",
   "execution_count": null,
   "metadata": {},
   "outputs": [],
   "source": []
  }
 ]
}