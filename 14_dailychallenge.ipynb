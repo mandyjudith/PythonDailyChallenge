{
 "metadata": {
  "language_info": {
   "codemirror_mode": {
    "name": "ipython",
    "version": 3
   },
   "file_extension": ".py",
   "mimetype": "text/x-python",
   "name": "python",
   "nbconvert_exporter": "python",
   "pygments_lexer": "ipython3",
   "version": "3.6.8-final"
  },
  "orig_nbformat": 2,
  "kernelspec": {
   "name": "python3",
   "display_name": "Python 3",
   "language": "python"
  }
 },
 "nbformat": 4,
 "nbformat_minor": 2,
 "cells": [
  {
   "source": [
    "Given a list of integers, split the list into two, put the arrays on top of each other, then add them together. Return the finished list.\n",
    "\n",
    "\n",
    "\n",
    "Example:\n",
    "\n",
    "Input:\n",
    "\n",
    "[1, 2, 3, 4, 5, 6, 7]\n",
    "\n",
    "\n",
    "\n",
    "Putting on top:\n",
    "\n",
    "[1, 2, 3]\n",
    "\n",
    "[4, 5, 6, 7]\n",
    "\n",
    "\n",
    "\n",
    "Adding up process:\n",
    "\n",
    "[1, 2, 3]\n",
    "\n",
    "+\n",
    "\n",
    "[4, 5, 6, 7]\n",
    "\n",
    "------------\n",
    "\n",
    "[5, 7, 9, 7]\n",
    "\n",
    "\n",
    "\n",
    "Returns:\n",
    "\n",
    "[5, 7, 9, 7]\n",
    "\n"
   ],
   "cell_type": "markdown",
   "metadata": {}
  },
  {
   "cell_type": "code",
   "execution_count": 11,
   "metadata": {},
   "outputs": [
    {
     "output_type": "stream",
     "name": "stdout",
     "text": [
      "[5, 7, 9, 7]\n"
     ]
    }
   ],
   "source": [
    "int_list = [1, 2, 3, 4, 5, 6, 7]\n",
    "mean = len(int_list)//2\n",
    "list1 = int_list[:mean]\n",
    "list2 = int_list[mean:]\n",
    "list_sum = []\n",
    "\n",
    "for i in range(len(list2)):\n",
    "    try:\n",
    "        list_sum.append(list1[i]+list2[i])\n",
    "    except:\n",
    "        try:\n",
    "            list_sum.append(list1[i])\n",
    "        except:\n",
    "            list_sum.append(list2[i])\n",
    "\n",
    "print(list_sum)\n",
    "\n",
    "\n",
    "\n",
    "    \n",
    "\n",
    "    \n"
   ]
  },
  {
   "cell_type": "code",
   "execution_count": null,
   "metadata": {},
   "outputs": [],
   "source": []
  }
 ]
}