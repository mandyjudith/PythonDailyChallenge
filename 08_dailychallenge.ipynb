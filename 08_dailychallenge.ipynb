{
 "metadata": {
  "language_info": {
   "codemirror_mode": {
    "name": "ipython",
    "version": 3
   },
   "file_extension": ".py",
   "mimetype": "text/x-python",
   "name": "python",
   "nbconvert_exporter": "python",
   "pygments_lexer": "ipython3",
   "version": "3.6.8-final"
  },
  "orig_nbformat": 2,
  "kernelspec": {
   "name": "python3",
   "display_name": "Python 3",
   "language": "python"
  }
 },
 "nbformat": 4,
 "nbformat_minor": 2,
 "cells": [
  {
   "source": [
    "Given two integer inputs n and d, create a function that squares all numbers from 1 to n, then returns the count of all instances of d from the square results.  \n",
    "\n",
    "\n",
    "\n",
    "Example: \n",
    "\n",
    "n: 5\n",
    "\n",
    "d: 1\n",
    "\n",
    "square of numbers from 1 to 5: 1, 4, 9, 16, 25\n",
    "\n",
    "returns: 2 (since there's 2 instances of the digit 1, in 1 and 16)\n",
    "\n"
   ],
   "cell_type": "markdown",
   "metadata": {}
  },
  {
   "cell_type": "code",
   "execution_count": 23,
   "metadata": {},
   "outputs": [
    {
     "output_type": "execute_result",
     "data": {
      "text/plain": [
       "([0, 1, 4, 9, 16], 2)"
      ]
     },
     "metadata": {},
     "execution_count": 23
    }
   ],
   "source": [
    "def check(n,d):\n",
    "    sqr_list = []\n",
    "    for i in range(0,5):\n",
    "        sqr_list.append(i**2)\n",
    "        count = 0\n",
    "        for i in sqr_list:\n",
    "            if str(d) in str(i):\n",
    "                count+=1\n",
    "    return (sqr_list),count\n",
    "\n",
    "\n",
    "n= 5\n",
    "d= 1\n",
    "check(n,d)\n"
   ]
  },
  {
   "cell_type": "code",
   "execution_count": null,
   "metadata": {},
   "outputs": [],
   "source": []
  }
 ]
}